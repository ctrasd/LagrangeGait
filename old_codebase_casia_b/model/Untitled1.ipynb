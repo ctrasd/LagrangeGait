{
 "cells": [
  {
   "cell_type": "code",
   "execution_count": 1,
   "id": "bizarre-launch",
   "metadata": {},
   "outputs": [],
   "source": [
    "import math\n",
    "import os\n",
    "import os.path as osp\n",
    "import random\n",
    "import sys\n",
    "from datetime import datetime\n",
    "from torch.autograd import Variable\n",
    "\n",
    "import numpy as np\n",
    "import torch\n",
    "import torch.nn as nn\n",
    "import torch.autograd as autograd\n",
    "import torch.optim as optim\n",
    "import torch.utils.data as tordata\n",
    "from torch.optim import lr_scheduler\n",
    "#from network import TripletLoss, SetNet\n",
    "#from network import vgg_c3d,C3D_VGG_angle,transview\n",
    "from utils import TripletSampler\n",
    "os.environ[\"CUDA_VISIBLE_DEVICES\"]='0'\n"
   ]
  },
  {
   "cell_type": "code",
   "execution_count": 2,
   "id": "proper-cycle",
   "metadata": {},
   "outputs": [],
   "source": [
    "import torch\n",
    "import torch.nn as nn\n",
    "import torch.nn.functional as F\n",
    "from einops import rearrange, repeat\n",
    "class BasicConv2d(nn.Module):\n",
    "    def __init__(self, in_channels, out_channels, kernel_size, **kwargs):\n",
    "        super(BasicConv2d, self).__init__()\n",
    "        self.conv = nn.Conv2d(in_channels, out_channels, kernel_size, bias=False, **kwargs)\n",
    "\n",
    "    def forward(self, x):\n",
    "        x = self.conv(x)\n",
    "        return F.leaky_relu(x, inplace=True)\n",
    "\n",
    "\n",
    "\n",
    "class Feed_Forward(nn.Module):\n",
    "    def __init__(self, in_channels, hidden_channels, out_channels,dropout=0.5, **kwargs):\n",
    "        super(Feed_Forward, self).__init__()\n",
    "        self.conv = nn.Conv2d(in_channels, hidden_channels, (1,1), bias=False, **kwargs)\n",
    "        self.relu=nn.LeakyReLU(inplace=True)\n",
    "        self.drop=nn.Dropout(dropout)\n",
    "        self.conv2 = nn.Conv2d(hidden_channels, out_channels, (1,1), bias=False, **kwargs)\n",
    "        self.upsample=nn.Conv2d(in_channels, out_channels, (1,1), bias=False, **kwargs)\n",
    "        self.norm = nn.LayerNorm(out_channels)\n",
    "    def forward(self, x):\n",
    "        x_ori=x.clone()\n",
    "        x=self.conv(x)\n",
    "        x=self.relu(x)\n",
    "        x=self.drop(x)\n",
    "        x=self.conv2(x) # n c h w\n",
    "        x=x.permute(0,2,3,1).contiguous()\n",
    "        x=self.norm(x).permute(0,3,1,2).contiguous()\n",
    "\n",
    "        return x+self.upsample(x_ori)\n",
    "\n",
    "class Feed_Forward_ori(nn.Module):\n",
    "    def __init__(self, dim, hidden_dim, dropout = 0.):\n",
    "        super().__init__()\n",
    "        self.net = nn.Sequential(\n",
    "            nn.Linear(dim, hidden_dim),\n",
    "            nn.GELU(),\n",
    "            nn.Dropout(dropout),\n",
    "            nn.Linear(hidden_dim, dim),\n",
    "            nn.Dropout(dropout)\n",
    "        )\n",
    "    def forward(self, x):\n",
    "        return self.net(x)\n",
    "\n",
    "class Non_local(nn.Module):\n",
    "    def __init__(self, in_channels, reduc_ratio=4):\n",
    "        super(Non_local, self).__init__()\n",
    "\n",
    "        self.in_channels = in_channels\n",
    "        self.inter_channels = in_channels // reduc_ratio\n",
    "\n",
    "        self.g = nn.Conv2d(in_channels=self.in_channels, out_channels=self.inter_channels,\n",
    "                      kernel_size=1, stride=1, padding=0)\n",
    "\n",
    "        self.W = nn.Sequential(\n",
    "            nn.Conv2d(in_channels=self.inter_channels, out_channels=self.in_channels,\n",
    "                    kernel_size=1, stride=1, padding=0),\n",
    "            nn.BatchNorm2d(self.in_channels),\n",
    "        )\n",
    "        nn.init.constant_(self.W[1].weight, 0.0)\n",
    "        nn.init.constant_(self.W[1].bias, 0.0)\n",
    "\n",
    "        self.theta = nn.Conv2d(in_channels=self.in_channels, out_channels=self.inter_channels,\n",
    "                             kernel_size=1, stride=1, padding=0)\n",
    "\n",
    "        self.phi = nn.Conv2d(in_channels=self.in_channels, out_channels=self.inter_channels,\n",
    "                           kernel_size=1, stride=1, padding=0)\n",
    "\n",
    "    def forward(self, x):\n",
    "        '''\n",
    "                :param x: (b, c, h, w)\n",
    "                :return x: (b, c, h, w)\n",
    "        '''\n",
    "        batch_size = x.size(0)\n",
    "        g_x = self.g(x).view(batch_size, self.inter_channels, -1)\n",
    "        g_x = g_x.permute(0, 2, 1)\n",
    "\n",
    "        theta_x = self.theta(x).view(batch_size, self.inter_channels, -1)\n",
    "        theta_x = theta_x.permute(0, 2, 1)\n",
    "        phi_x = self.phi(x).view(batch_size, self.inter_channels, -1)\n",
    "        f = torch.matmul(theta_x, phi_x)\n",
    "        N = f.size(-1)\n",
    "        #f_div_C = f / N\n",
    "        f_div_C=F.softmax(f,-1)\n",
    "        y = torch.matmul(f_div_C, g_x)\n",
    "        y = y.permute(0, 2, 1).contiguous()\n",
    "        y = y.view(batch_size, self.inter_channels, *x.size()[2:])\n",
    "        W_y = self.W(y)\n",
    "        z = W_y + x\n",
    "        return z\n",
    "\n",
    "\n",
    "\n",
    "\n",
    "\n",
    "class Attention_ori(nn.Module):\n",
    "    def __init__(self, dim, heads = 8, dim_head = 64, dropout = 0.):\n",
    "        super().__init__()\n",
    "        inner_dim = dim_head *  heads\n",
    "        self.heads = heads\n",
    "        self.scale = dim_head ** -0.5\n",
    "        \n",
    "        # get q,k,v from a single weight matrix\n",
    "        self.to_qkv = nn.Linear(dim, inner_dim * 3, bias = False)\n",
    "        #self.to_q=nn.Linear(dim, inner_dim , bias = False)\n",
    "        #self.to_k=nn.Linear(dim, inner_dim , bias = False)\n",
    "        #self.to_v=nn.Linear(dim, inner_dim , bias = False)\n",
    "        #self.to_qkv.apply(weights_init_kaiming)\n",
    "        self.to_out = nn.Sequential(\n",
    "            nn.Linear(inner_dim, dim),\n",
    "            nn.Dropout(dropout)\n",
    "        )\n",
    "        self.norm = nn.LayerNorm(dim)\n",
    "        #self.to_out.apply(weights_init_kaiming)\n",
    "    def forward(self, x, mask = None):\n",
    "        #print(x.shape)\n",
    "        x_ori=x.clone()\n",
    "        #ipdb.set_trace()\n",
    "        # x:[batch_size, patch_num, pathch_embedding_dim]\n",
    "        b, n, _, h = *x.shape, self.heads\n",
    "        #print(b, n, _, h)\n",
    "        # get qkv tuple:([batch, patch_num, head_num*head_dim],[...],[...])\n",
    "        qkv = self.to_qkv(x).chunk(3, dim = -1)\n",
    "        \n",
    "        # split q,k,v from [batch, patch_num, head_num*head_dim] -> [batch, head_num, patch_num, head_dim]\n",
    "        q, k, v = map(lambda t: rearrange(t, 'b n (h d) -> b h n d', h = h), qkv)\n",
    "        #print(q.shape,v.shape)\n",
    "        #transpose(k) * q / sqrt(head_dim) -> [batch, head_num, patch_num, patch_num]\n",
    "        #dots = torch.einsum('b h i d, b h j d -> b h i j', q, k) * self.scale\n",
    "        \n",
    "        q=q.contiguous().view(b*h,n,-1)\n",
    "        k=k.contiguous().view(b*h,-1,n).contiguous()\n",
    "        dots=torch.bmm(q,k)\n",
    "        dots=dots.view(b,h,n,n)\n",
    "        \n",
    "        #print(dots.shape)\n",
    "        \n",
    "        \n",
    "        # mask value: -inf\n",
    "        '''\n",
    "        mask_value = -10000000000000\n",
    "\n",
    "        if mask is not None:\n",
    "            mask = F.pad(mask.flatten(1), (1, 0), value = True)\n",
    "            assert mask.shape[-1] == dots.shape[-1], 'mask has incorrect dimensions'\n",
    "            mask = mask[:, None, :] * mask[:, :, None]\n",
    "            dots.masked_fill_(~mask, mask_value)\n",
    "            del mask\n",
    "        '''\n",
    "        # softmax normalization -> attention matrix\n",
    "        attn = dots.softmax(dim=-1)\n",
    "\n",
    "        # value * attention matrix -> output\n",
    "        \n",
    "        attn=attn.view(b*h,n,-1)\n",
    "        v=v.contiguous().view(b*h,n,-1).contiguous()\n",
    "        out=torch.bmm(attn,v)\n",
    "        out=out.view(b,h,n,-1)\n",
    "        \n",
    "        #out = torch.einsum('bhij,bhjd->bhid', attn, v)\n",
    "\n",
    "        # cat all output -> [batch, patch_num, head_num*head_dim]\n",
    "        out = rearrange(out, 'b h n d -> b n (h d)')\n",
    "        #out = out.view(b,h,n,d).permute(0,2,1,3).contiguous()\n",
    "        #out=out.view(b,n,h*d)\n",
    "        # Linear + Dropout\n",
    "        out =  self.to_out(out)\n",
    "        out =  self.norm(out)\n",
    "        # out: [batch, patch_num, embedding_dim]\n",
    "        return out+x_ori,attn\n",
    "\n",
    "\n",
    "\n",
    "class Attention(nn.Module):\n",
    "    def __init__(self, dim, heads = 8, dim_head = 64, dropout = 0.):\n",
    "        super().__init__()\n",
    "        inner_dim = dim_head *  heads\n",
    "        self.heads = heads\n",
    "        self.scale = dim_head ** -0.5\n",
    "        \n",
    "        # get q,k,v from a single weight matrix\n",
    "        self.to_qkv = nn.Linear(dim, inner_dim * 3, bias = False)\n",
    "        #self.to_q=nn.Linear(dim, inner_dim , bias = False)\n",
    "        #self.to_k=nn.Linear(dim, inner_dim , bias = False)\n",
    "        #self.to_v=nn.Linear(dim, inner_dim , bias = False)\n",
    "        #self.to_qkv.apply(weights_init_kaiming)\n",
    "        self.to_out = nn.Sequential(\n",
    "            nn.Linear(inner_dim, dim),\n",
    "            nn.Dropout(dropout)\n",
    "        )\n",
    "        self.norm = nn.LayerNorm(dim)\n",
    "        #self.to_out.apply(weights_init_kaiming)\n",
    "    def forward(self, x, mask = None):\n",
    "        # bt c h w\n",
    "        bt,c,he,wi=x.shape\n",
    "        #print(x.shape)\n",
    "        x_ori=x.clone()\n",
    "        x=x.permute(0,2,3,1).contiguous()\n",
    "        x=x.view(bt,he*wi,c)\n",
    "        #ipdb.set_trace()\n",
    "        # x:[batch_size, patch_num, pathch_embedding_dim]\n",
    "        b, n, _, h = *x.shape, self.heads\n",
    "        #print(b, n, _, h)\n",
    "        # get qkv tuple:([batch, patch_num, head_num*head_dim],[...],[...])\n",
    "        qkv = self.to_qkv(x).chunk(3, dim = -1)\n",
    "        \n",
    "        # split q,k,v from [batch, patch_num, head_num*head_dim] -> [batch, head_num, patch_num, head_dim]\n",
    "        q, k, v = map(lambda t: rearrange(t, 'b n (h d) -> b h n d', h = h), qkv)\n",
    "        #print(q.shape,v.shape)\n",
    "        #transpose(k) * q / sqrt(head_dim) -> [batch, head_num, patch_num, patch_num]\n",
    "        #dots = torch.einsum('b h i d, b h j d -> b h i j', q, k) * self.scale\n",
    "        \n",
    "        q=q.contiguous().view(b*h,n,-1)\n",
    "        k=k.contiguous().view(b*h,-1,n).contiguous()\n",
    "        dots=torch.bmm(q,k)\n",
    "        dots=dots.view(b,h,n,n)\n",
    "        \n",
    "        #print(dots.shape)\n",
    "        \n",
    "        \n",
    "        # mask value: -inf\n",
    "        '''\n",
    "        mask_value = -10000000000000\n",
    "\n",
    "        if mask is not None:\n",
    "            mask = F.pad(mask.flatten(1), (1, 0), value = True)\n",
    "            assert mask.shape[-1] == dots.shape[-1], 'mask has incorrect dimensions'\n",
    "            mask = mask[:, None, :] * mask[:, :, None]\n",
    "            dots.masked_fill_(~mask, mask_value)\n",
    "            del mask\n",
    "        '''\n",
    "        # softmax normalization -> attention matrix\n",
    "        attn = dots.softmax(dim=-1)\n",
    "\n",
    "        # value * attention matrix -> output\n",
    "        \n",
    "        attn=attn.view(b*h,n,-1)\n",
    "        v=v.contiguous().view(b*h,n,-1).contiguous()\n",
    "        out=torch.bmm(attn,v)\n",
    "        out=out.view(b,h,n,-1)\n",
    "        \n",
    "        #out = torch.einsum('bhij,bhjd->bhid', attn, v)\n",
    "\n",
    "        # cat all output -> [batch, patch_num, head_num*head_dim]\n",
    "        out = rearrange(out, 'b h n d -> b n (h d)')\n",
    "        #out = out.view(b,h,n,d).permute(0,2,1,3).contiguous()\n",
    "        #out=out.view(b,n,h*d)\n",
    "        # Linear + Dropout\n",
    "        out =  self.to_out(out)\n",
    "        out =  self.norm(out)\n",
    "        out = out.view(bt,he,wi,-1).permute(0,3,1,2).contiguous()\n",
    "        # out: [batch, patch_num, embedding_dim]\n",
    "        return out+x_ori,attn\n",
    "    \n",
    "class SetBlock(nn.Module):\n",
    "    def __init__(self, forward_block, pooling=False):\n",
    "        super(SetBlock, self).__init__()\n",
    "        self.forward_block = forward_block\n",
    "        self.pooling = pooling\n",
    "        if pooling:\n",
    "            self.pool2d = nn.MaxPool2d(2)\n",
    "    def forward(self, x):\n",
    "        n, s, c, h, w = x.size()\n",
    "        x = self.forward_block(x.view(-1,c,h,w))\n",
    "        if type(x)==tuple:\n",
    "            att_map=x[1]\n",
    "            x=x[0]\n",
    "            if self.pooling:\n",
    "                x = self.pool2d(x)\n",
    "            _, c, h, w = x.size()\n",
    "            return x.view(n, s, c, h ,w),att_map\n",
    "        else:\n",
    "            if self.pooling:\n",
    "                x = self.pool2d(x)\n",
    "            _, c, h, w = x.size()\n",
    "            return x.view(n, s, c, h ,w)    \n",
    "\n",
    "\n",
    "class SetBlock_feature(nn.Module):\n",
    "    def __init__(self, forward_block, pooling=False):\n",
    "        super(SetBlock_feature, self).__init__()\n",
    "        self.forward_block = forward_block\n",
    "        self.pooling = pooling\n",
    "\n",
    "    def forward(self, x):\n",
    "        n, s,h, c = x.size()\n",
    "        x = self.forward_block(x.view(-1,h,c))\n",
    "        if type(x)==tuple:\n",
    "            att_map=x[1]\n",
    "            x=x[0]\n",
    "            _, h,c = x.size()\n",
    "            return x.view(n, s,h, c),att_map\n",
    "        else:\n",
    "            \n",
    "            _, h,c = x.size()\n",
    "            return x.view(n, s,h, c)"
   ]
  },
  {
   "cell_type": "code",
   "execution_count": 26,
   "id": "personalized-fluid",
   "metadata": {},
   "outputs": [],
   "source": [
    "import torch\n",
    "import torch.nn as nn\n",
    "import numpy as np\n",
    "import torch.nn.functional as F\n",
    "#from .basic_blocks import SetBlock, BasicConv2d,Non_local,Feed_Forward,Attention,Feed_Forward_ori,Attention_ori,SetBlock_feature\n",
    "\n",
    "def gem(x, p=6.5, eps=1e-6):\n",
    "    # print('x-',x.shape)\n",
    "    # print('xpow-',x.clamp(min=eps).pow(p).shape)\n",
    "    # print(F.avg_pool2d(x.clamp(min=eps).pow(p), (1, x.size(-1))).shape)\n",
    "    return F.avg_pool2d(x.clamp(min=eps).pow(p), (1, x.size(-1))).pow(1./p)\n",
    "\n",
    "class GeM(nn.Module):\n",
    "\n",
    "    def __init__(self, p=6.5, eps=1e-6):\n",
    "        super(GeM,self).__init__()\n",
    "        self.p = nn.Parameter(torch.ones(1)*p)\n",
    "        self.eps = eps\n",
    "\n",
    "    def forward(self, x):\n",
    "        # print('p-',self.p)\n",
    "        return gem(x, p=self.p, eps=self.eps)\n",
    "        \n",
    "    def __repr__(self):\n",
    "        return self.__class__.__name__ + '(' + 'p=' + '{:.4f}'.format(self.p.data.tolist()[0]) + ', ' + 'eps=' + str(self.eps) + ')'\n",
    "\n",
    "\n",
    "class BasicConv3d(nn.Module):\n",
    "    def __init__(self, inplanes, planes, dilation=1, bias=False, **kwargs):\n",
    "        super(BasicConv3d, self).__init__()\n",
    "        self.conv1 = nn.Conv3d(inplanes, planes, kernel_size=(3, 3, 3), bias=bias, dilation=(dilation, 1, 1), padding=(dilation, 1, 1))\n",
    "\n",
    "    def forward(self, x):\n",
    "        out = self.conv1(x.permute(0,2,1,3,4).contiguous())\n",
    "        out = F.leaky_relu(out, inplace=True)\n",
    "        return out.permute(0,2,1,3,4).contiguous()\n",
    "\n",
    "class LocaltemporalAG(nn.Module):\n",
    "    def __init__(self, inplanes, planes, dilation=1, bias=False, **kwargs):\n",
    "        super(LocaltemporalAG, self).__init__()\n",
    "        self.conv1 = nn.Conv3d(inplanes, planes, kernel_size=(3, 1, 1), stride=(3,1,1), bias=bias,padding=(0, 0, 0))\n",
    "\n",
    "    def forward(self, x):\n",
    "        x=x.permute(0,2,1,3,4).contiguous()\n",
    "        out1 = self.conv1(x)\n",
    "        out = F.leaky_relu(out1, inplace=True)\n",
    "        return out.permute(0,2,1,3,4).contiguous()\n",
    "\n",
    "\n",
    "class BasicConv3d_p(nn.Module):\n",
    "    def __init__(self, inplanes, planes, kernel=5, bias=False, p=2, FM=False, **kwargs):\n",
    "        super(BasicConv3d_p, self).__init__()\n",
    "        self.p = p\n",
    "        self.fm = FM\n",
    "        self.convdl = nn.Conv3d(inplanes, planes, kernel_size=(kernel, kernel, kernel), bias=bias, padding=((kernel-1)//2, (kernel-1)//2, (kernel-1)//2))\n",
    "        self.convdg = nn.Conv3d(inplanes, planes, kernel_size=(kernel, kernel, kernel), bias=bias, padding=((kernel-1)//2, (kernel-1)//2, (kernel-1)//2))\n",
    "    def forward(self, x):\n",
    "        x=x.permute(0,2,1,3,4).contiguous()\n",
    "        n, c, t, h, w = x.size()\n",
    "        scale = h//self.p\n",
    "        # print('p-',x.shape,n, c, t, h, w,'scale-',scale)\n",
    "        feature = list()\n",
    "        for i in range(self.p):\n",
    "            temp = self.convdl(x[:,:,:,i*scale:(i+1)*scale,:])\n",
    "            # print(temp.shape,i*scale,(i+1)*scale)\n",
    "            feature.append(temp)\n",
    "\n",
    "        outl = torch.cat(feature, 3)\n",
    "        # print('outl-',outl.shape)\n",
    "        outl = F.leaky_relu(outl, inplace=True)\n",
    "\n",
    "        outg = self.convdg(x)\n",
    "        outg = F.leaky_relu(outg, inplace=True)\n",
    "        # print('outg-',outg.shape)\n",
    "        if not self.fm:\n",
    "            # print('1-1')\n",
    "            out = outg + outl\n",
    "        else:\n",
    "            # print('1-2')\n",
    "            out = torch.cat((outg, outl), dim=3)\n",
    "        out=out.permute(0,2,1,3,4).contiguous()\n",
    "        return out\n",
    "\n",
    "\n",
    "class transview(nn.Module):\n",
    "    def __init__(self):\n",
    "        super(transview, self).__init__()\n",
    "        self.batch_frame = None\n",
    "        self.Gem=GeM()\n",
    "        self.bin_num=16\n",
    "        self.bin_num2=16\n",
    "        self.bin_num2_w=2\n",
    "        self.bin_num_t=2\n",
    "        _set_in_channels = 1\n",
    "        _set_channels = [32, 64, 128,256]\n",
    "        #self.set_layer1 = SetBlock(BasicConv2d(_set_in_channels, _set_channels[0], 5, padding=2))\n",
    "        #self.set_layer2 = SetBlock(BasicConv2d(_set_channels[0], _set_channels[0], 3, padding=1), True)\n",
    "        self.c3d1=BasicConv3d(_set_in_channels,_set_channels[0])\n",
    "        self.tp1=LocaltemporalAG(_set_channels[0],_set_channels[0])\n",
    "        self.c3d2=BasicConv3d_p(_set_channels[0], _set_channels[1])\n",
    "        self.c3d3=BasicConv3d_p(_set_channels[1], _set_channels[1],FM=True)\n",
    "        #self.non_layer1 = SetBlock(Non_local( _set_channels[1],8))\n",
    "        #self.non_layer2 = SetBlock(Non_local( _set_channels[1],8))\n",
    "\n",
    "        self.non_layer1 = SetBlock(Attention( _set_channels[1],heads=2,dim_head=_set_channels[1]//4,dropout=0.1))\n",
    "        self.non_layer2 = SetBlock(Attention( _set_channels[1],heads=2,dim_head=_set_channels[1]//4,dropout=0.1))\n",
    "\n",
    "\n",
    "        self.fead_forward_layer1=SetBlock(Feed_Forward(_set_channels[1],_set_channels[2],_set_channels[2]))\n",
    "        #self.feedforward_layer1=nn.Sequential(nn.Conv2d(32,32,kernel_size=(1,1),stride=1,padding=0,bias=True))\n",
    "        #self.non_layer3 = SetBlock(Non_local(_set_channels[2],8))\n",
    "        #self.non_layer4 = SetBlock(Non_local(_set_channels[2],8))\n",
    "\n",
    "\n",
    "        self.non_layer3 = SetBlock(Attention( _set_channels[2],heads=2,dim_head=_set_channels[2]//8,dropout=0.1))\n",
    "        self.non_layer4 = SetBlock(Attention( _set_channels[2],heads=2,dim_head=_set_channels[2]//8,dropout=0.1))\n",
    "\n",
    "        \n",
    "        self.fead_forward_layer2=SetBlock(Feed_Forward(_set_channels[2],_set_channels[3],_set_channels[3]))\n",
    "        self.pool2d = nn.MaxPool2d(2)\n",
    "\n",
    "        self.non_layer5 = SetBlock_feature(Attention_ori( _set_channels[3],heads=2,dim_head=_set_channels[3]//4,dropout=0.1))\n",
    "        \n",
    "        \n",
    "        self.pos_embedding_32 = nn.Parameter(torch.randn(1,1,64,32*2,22))\n",
    "        self.pos_embedding_64 = nn.Parameter(torch.randn(1,1,128,32*2,22))\n",
    "\n",
    "\n",
    "        self.layer_bin=8\n",
    "        self.bin_numgl = [32,64]\n",
    "        \n",
    "        self.fc_bin = nn.Parameter(\n",
    "                nn.init.xavier_uniform_(\n",
    "                    torch.zeros(sum(self.bin_numgl), _set_channels[3], _set_channels[3])))\n",
    "                \n",
    "        for m in self.modules():\n",
    "            if isinstance(m, (nn.Conv2d, nn.Conv1d)):\n",
    "                nn.init.xavier_uniform_(m.weight.data)\n",
    "            elif isinstance(m, nn.Linear):\n",
    "                nn.init.xavier_uniform_(m.weight.data)\n",
    "                if m.bias is not None:\n",
    "                    nn.init.constant(m.bias.data, 0.0)\n",
    "            elif isinstance(m, (nn.BatchNorm2d, nn.BatchNorm1d)):\n",
    "                nn.init.normal(m.weight.data, 1.0, 0.02)\n",
    "                nn.init.constant(m.bias.data, 0.0)\n",
    "\n",
    "    def frame_max(self, x):\n",
    "        if self.batch_frame is None:\n",
    "            return torch.max(x, 1)\n",
    "        else:\n",
    "            _tmp = [\n",
    "                torch.max(x[:, self.batch_frame[i]:self.batch_frame[i + 1], :, :, :], 1)\n",
    "                for i in range(len(self.batch_frame) - 1)\n",
    "                ]\n",
    "            max_list = torch.cat([_tmp[i][0] for i in range(len(_tmp))], 0)\n",
    "            arg_max_list = torch.cat([_tmp[i][1] for i in range(len(_tmp))], 0)\n",
    "            return max_list, arg_max_list\n",
    "\n",
    "    def frame_median(self, x):\n",
    "        if self.batch_frame is None:\n",
    "            return torch.median(x, 1)\n",
    "        else:\n",
    "            _tmp = [\n",
    "                torch.median(x[:, self.batch_frame[i]:self.batch_frame[i + 1], :, :, :], 1)\n",
    "                for i in range(len(self.batch_frame) - 1)\n",
    "                ]\n",
    "            median_list = torch.cat([_tmp[i][0] for i in range(len(_tmp))], 0)\n",
    "            arg_median_list = torch.cat([_tmp[i][1] for i in range(len(_tmp))], 0)\n",
    "            return median_list, arg_median_list\n",
    "\n",
    "    \n",
    "\n",
    "\n",
    "    def forward(self, silho, batch_frame=None):\n",
    "\n",
    "        n = silho.size(0)\n",
    "        t = silho.size(1)\n",
    "        x=silho\n",
    "        n,t,c,h,w=x.shape\n",
    "        #x = silho.unsqueeze(1)\n",
    "        del silho\n",
    "        if t == 1:\n",
    "            x = x.repeat(1, 6, 1, 1, 1)\n",
    "        elif t == 2 or t==3:\n",
    "            x = x.repeat(1, 3, 1, 1, 1)\n",
    "        #elif t == 3:\n",
    "        #    x = torch.cat((x,x[:,0:3,:,:,:]),dim=1)\n",
    "        elif t<6:\n",
    "            x=x.unsqueeze(1)\n",
    "            x=x.expand(-1,2,-1,-1,-1,-1).contiguous()\n",
    "            #print(x.shape)\n",
    "            x=x.view(n,-1,c,h,w)\n",
    "        x=x[:,:x.shape[1]-x.shape[1]%6]\n",
    "        \n",
    "        \n",
    "        #print(x.shape)\n",
    "        #x = self.set_layer1(x)\n",
    "        x = self.c3d1(x)  #self.set_layer1(x) \n",
    "        #x = self.set_layer2(x) # n,t,32,32,22\n",
    "        x = self.tp1(x) # n,t/3,32,32,22\n",
    "        \n",
    "        \n",
    "        x = self.c3d2(x) \n",
    "        b,t,c,h,w=x.shape\n",
    "        x = x.view(-1,c,h,w)\n",
    "        x = self.pool2d(x)\n",
    "\n",
    "        x = x.view(b,t,c,h//2,w//2)\n",
    "\n",
    "        x = self.c3d3(x)\n",
    "        #print(x.shape)\n",
    "        x=x+self.pos_embedding_32\n",
    "        n,t,c,h,w=x.shape\n",
    "\n",
    "\n",
    "        win_size=h//self.bin_num\n",
    "        x=x.view(n,t,c,self.bin_num,win_size,w).permute(0,1,3,2,4,5)\\\n",
    "            .contiguous().view(n,t*self.bin_num,c,win_size,w) # n tp c h/p w   \n",
    "\n",
    "        x,att_1 = self.non_layer1(x) # \n",
    "        x,att_2 = self.non_layer2(x) #\n",
    "        x = self.fead_forward_layer1(x)\n",
    "        x = x.view(n,t,self.bin_num,c*2,win_size,w).permute(0,1,3,2,4,5).contiguous().view(n,t,c*2,h,w)\n",
    "\n",
    "\n",
    "        x=x+self.pos_embedding_64\n",
    "        n,t,c,h,w=x.shape\n",
    "        win_size_h=h//self.bin_num2\n",
    "        win_size_w=w//self.bin_num2_w\n",
    "        t_size=t//self.bin_num_t\n",
    "\n",
    "        x_2=x.view(n,self.bin_num_t,t_size,c,self.bin_num2,win_size_h,self.bin_num2_w,win_size_w).permute(0,1,4,6,3,2,5,7)\\\n",
    "            .contiguous().view(n,self.bin_num_t*self.bin_num2*self.bin_num2_w,c,t_size*win_size_h,win_size_w)\n",
    "\n",
    "        #x_2=x.view(n,t,c,self.bin_num,win_size,w).permute(0,1,3,2,4,5)\\\n",
    "        #    .contiguous().view(n,t*self.bin_num,c,win_size,w) # n tp c h/p w   \n",
    "\n",
    "        x_2,att_3=self.non_layer3(x_2)\n",
    "        x_2 = self.fead_forward_layer2(x_2) \n",
    "\n",
    "        x_2 = x_2.view(n,self.bin_num_t,self.bin_num2,self.bin_num2_w,c*2,t_size,win_size_h,win_size_w).permute(0,1,5,4,2,6,3,7).contiguous()\n",
    "        x_2 = x_2.view(n,t,c*2,h,w)\n",
    "        x_2 = x_2.view(n*t,c*2,h,w)\n",
    "        nt,c,h,w=x_2.shape\n",
    "        _, c2d, _, _ = x_2.size()\n",
    "        print(x_2.shape)\n",
    "        feature = list()\n",
    "        for num_bin in self.bin_numgl:\n",
    "            z = x_2.view(nt, c2d, num_bin, -1).contiguous()\n",
    "            # z1 = z.mean(3) + z.max(3)[0]\n",
    "            # print('z1-',z1.shape)\n",
    "            z2 = self.Gem(z).squeeze(-1)\n",
    "            # print('z2-',z2.shape)\n",
    "            feature.append(z2)  # nt c 1\n",
    "        feature = torch.cat(feature, 2).permute(2, 0, 1).contiguous() # 96 nt c\n",
    "        print(feature.shape)\n",
    "        #print('feature',feature.shape)\n",
    "        #print(feature.shape)\n",
    "        #print(self.fc_bin.shape)\n",
    "        feature = feature.matmul(self.fc_bin) # 96 nt c\n",
    "        feature = feature.permute(1, 0, 2).contiguous() # nt c 96\n",
    "        #print('feature',feature.shape)\n",
    "        nt,num_bin_sum,c=feature.shape\n",
    "        feature = feature.view(n,t,num_bin_sum,c).permute(0,2,1,3).contiguous()\n",
    "        #print(feature.shape)\n",
    "        feature,att_5=self.non_layer5(feature) # b num t c\n",
    "        feature=feature.max(2)[0]\n",
    "\n",
    "        return feature.permute(0,2,1).contiguous(),att_1,att_5"
   ]
  },
  {
   "cell_type": "code",
   "execution_count": 27,
   "id": "personalized-pregnancy",
   "metadata": {},
   "outputs": [
    {
     "name": "stderr",
     "output_type": "stream",
     "text": [
      "/home/chaitianrui/anaconda3/envs/py37/lib/python3.7/site-packages/ipykernel_launcher.py:142: UserWarning: nn.init.constant is now deprecated in favor of nn.init.constant_.\n"
     ]
    }
   ],
   "source": [
    "net=transview().cuda()\n",
    "net=nn.DataParallel(net)\n",
    "#net= C3D_VGG_angle()"
   ]
  },
  {
   "cell_type": "code",
   "execution_count": 28,
   "id": "lonely-guarantee",
   "metadata": {},
   "outputs": [
    {
     "name": "stdout",
     "output_type": "stream",
     "text": [
      "DataParallel(\n",
      "  (module): transview(\n",
      "    (Gem): GeM(p=3.1232, eps=1e-06)\n",
      "    (c3d1): BasicConv3d(\n",
      "      (conv1): Conv3d(1, 32, kernel_size=(3, 3, 3), stride=(1, 1, 1), padding=(1, 1, 1), bias=False)\n",
      "    )\n",
      "    (tp1): LocaltemporalAG(\n",
      "      (conv1): Conv3d(32, 32, kernel_size=(3, 1, 1), stride=(3, 1, 1), bias=False)\n",
      "    )\n",
      "    (c3d2): BasicConv3d_p(\n",
      "      (convdl): Conv3d(32, 64, kernel_size=(5, 5, 5), stride=(1, 1, 1), padding=(2, 2, 2), bias=False)\n",
      "      (convdg): Conv3d(32, 64, kernel_size=(5, 5, 5), stride=(1, 1, 1), padding=(2, 2, 2), bias=False)\n",
      "    )\n",
      "    (c3d3): BasicConv3d_p(\n",
      "      (convdl): Conv3d(64, 64, kernel_size=(5, 5, 5), stride=(1, 1, 1), padding=(2, 2, 2), bias=False)\n",
      "      (convdg): Conv3d(64, 64, kernel_size=(5, 5, 5), stride=(1, 1, 1), padding=(2, 2, 2), bias=False)\n",
      "    )\n",
      "    (non_layer1): SetBlock(\n",
      "      (forward_block): Attention(\n",
      "        (to_qkv): Linear(in_features=64, out_features=96, bias=False)\n",
      "        (to_out): Sequential(\n",
      "          (0): Linear(in_features=32, out_features=64, bias=True)\n",
      "          (1): Dropout(p=0.1, inplace=False)\n",
      "        )\n",
      "        (norm): LayerNorm((64,), eps=1e-05, elementwise_affine=True)\n",
      "      )\n",
      "    )\n",
      "    (non_layer2): SetBlock(\n",
      "      (forward_block): Attention(\n",
      "        (to_qkv): Linear(in_features=64, out_features=96, bias=False)\n",
      "        (to_out): Sequential(\n",
      "          (0): Linear(in_features=32, out_features=64, bias=True)\n",
      "          (1): Dropout(p=0.1, inplace=False)\n",
      "        )\n",
      "        (norm): LayerNorm((64,), eps=1e-05, elementwise_affine=True)\n",
      "      )\n",
      "    )\n",
      "    (fead_forward_layer1): SetBlock(\n",
      "      (forward_block): Feed_Forward(\n",
      "        (conv): Conv2d(64, 128, kernel_size=(1, 1), stride=(1, 1), bias=False)\n",
      "        (relu): LeakyReLU(negative_slope=0.01, inplace=True)\n",
      "        (drop): Dropout(p=0.5, inplace=False)\n",
      "        (conv2): Conv2d(128, 128, kernel_size=(1, 1), stride=(1, 1), bias=False)\n",
      "        (upsample): Conv2d(64, 128, kernel_size=(1, 1), stride=(1, 1), bias=False)\n",
      "        (norm): LayerNorm((128,), eps=1e-05, elementwise_affine=True)\n",
      "      )\n",
      "    )\n",
      "    (non_layer3): SetBlock(\n",
      "      (forward_block): Attention(\n",
      "        (to_qkv): Linear(in_features=128, out_features=96, bias=False)\n",
      "        (to_out): Sequential(\n",
      "          (0): Linear(in_features=32, out_features=128, bias=True)\n",
      "          (1): Dropout(p=0.1, inplace=False)\n",
      "        )\n",
      "        (norm): LayerNorm((128,), eps=1e-05, elementwise_affine=True)\n",
      "      )\n",
      "    )\n",
      "    (non_layer4): SetBlock(\n",
      "      (forward_block): Attention(\n",
      "        (to_qkv): Linear(in_features=128, out_features=96, bias=False)\n",
      "        (to_out): Sequential(\n",
      "          (0): Linear(in_features=32, out_features=128, bias=True)\n",
      "          (1): Dropout(p=0.1, inplace=False)\n",
      "        )\n",
      "        (norm): LayerNorm((128,), eps=1e-05, elementwise_affine=True)\n",
      "      )\n",
      "    )\n",
      "    (fead_forward_layer2): SetBlock(\n",
      "      (forward_block): Feed_Forward(\n",
      "        (conv): Conv2d(128, 256, kernel_size=(1, 1), stride=(1, 1), bias=False)\n",
      "        (relu): LeakyReLU(negative_slope=0.01, inplace=True)\n",
      "        (drop): Dropout(p=0.5, inplace=False)\n",
      "        (conv2): Conv2d(256, 256, kernel_size=(1, 1), stride=(1, 1), bias=False)\n",
      "        (upsample): Conv2d(128, 256, kernel_size=(1, 1), stride=(1, 1), bias=False)\n",
      "        (norm): LayerNorm((256,), eps=1e-05, elementwise_affine=True)\n",
      "      )\n",
      "    )\n",
      "    (pool2d): MaxPool2d(kernel_size=2, stride=2, padding=0, dilation=1, ceil_mode=False)\n",
      "    (non_layer5): SetBlock_feature(\n",
      "      (forward_block): Attention_ori(\n",
      "        (to_qkv): Linear(in_features=256, out_features=384, bias=False)\n",
      "        (to_out): Sequential(\n",
      "          (0): Linear(in_features=128, out_features=256, bias=True)\n",
      "          (1): Dropout(p=0.1, inplace=False)\n",
      "        )\n",
      "        (norm): LayerNorm((256,), eps=1e-05, elementwise_affine=True)\n",
      "      )\n",
      "    )\n",
      "  )\n",
      ")\n"
     ]
    }
   ],
   "source": [
    "net.load_state_dict(torch.load('../work_trans_binnum88_hpp3264_tnon/checkpoint/GaitTrans/GaitTrans_CASIA-B_73_False_0.2_64_full_30-64000-encoder.ptm'))\n",
    "print(net)"
   ]
  },
  {
   "cell_type": "code",
   "execution_count": 29,
   "id": "visible-desperate",
   "metadata": {},
   "outputs": [
    {
     "data": {
      "text/plain": [
       "Parameter containing:\n",
       "tensor([[-0.0092, -0.0130,  0.0747,  ...,  0.0014,  0.0593,  0.0409],\n",
       "        [ 0.0454, -0.0632, -0.0086,  ...,  0.0529, -0.0235, -0.0237],\n",
       "        [-0.0782, -0.0201, -0.0150,  ..., -0.0245, -0.0654,  0.0286],\n",
       "        ...,\n",
       "        [-0.0277, -0.0069, -0.0824,  ..., -0.1087, -0.0352,  0.1185],\n",
       "        [ 0.0698, -0.0406,  0.0906,  ...,  0.0522, -0.0240, -0.1010],\n",
       "        [ 0.0510, -0.0460,  0.0285,  ..., -0.0321,  0.0018, -0.0991]],\n",
       "       device='cuda:0', requires_grad=True)"
      ]
     },
     "execution_count": 29,
     "metadata": {},
     "output_type": "execute_result"
    }
   ],
   "source": [
    "net.module.non_layer5.forward_block.to_qkv.weight"
   ]
  },
  {
   "cell_type": "code",
   "execution_count": 30,
   "id": "imported-granny",
   "metadata": {},
   "outputs": [
    {
     "name": "stdout",
     "output_type": "stream",
     "text": [
      "['124-nm-06-090-039.png', '124-nm-06-090-040.png', '124-nm-06-090-041.png', '124-nm-06-090-042.png', '124-nm-06-090-043.png', '124-nm-06-090-044.png', '124-nm-06-090-045.png', '124-nm-06-090-046.png', '124-nm-06-090-047.png', '124-nm-06-090-048.png', '124-nm-06-090-049.png', '124-nm-06-090-050.png', '124-nm-06-090-051.png', '124-nm-06-090-052.png', '124-nm-06-090-053.png', '124-nm-06-090-054.png', '124-nm-06-090-055.png', '124-nm-06-090-056.png', '124-nm-06-090-057.png', '124-nm-06-090-058.png', '124-nm-06-090-059.png', '124-nm-06-090-060.png', '124-nm-06-090-061.png', '124-nm-06-090-062.png', '124-nm-06-090-063.png', '124-nm-06-090-064.png', '124-nm-06-090-065.png', '124-nm-06-090-066.png', '124-nm-06-090-067.png', '124-nm-06-090-068.png', '124-nm-06-090-069.png', '124-nm-06-090-070.png', '124-nm-06-090-071.png', '124-nm-06-090-072.png', '124-nm-06-090-073.png', '124-nm-06-090-074.png', '124-nm-06-090-075.png', '124-nm-06-090-076.png', '124-nm-06-090-077.png', '124-nm-06-090-078.png', '124-nm-06-090-079.png', '124-nm-06-090-080.png', '124-nm-06-090-081.png', '124-nm-06-090-082.png', '124-nm-06-090-083.png', '124-nm-06-090-084.png', '124-nm-06-090-085.png', '124-nm-06-090-086.png', '124-nm-06-090-087.png', '124-nm-06-090-088.png', '124-nm-06-090-089.png', '124-nm-06-090-090.png', '124-nm-06-090-091.png', '124-nm-06-090-092.png']\n"
     ]
    }
   ],
   "source": [
    "import os\n",
    "dir='/mnt/data/ctr/gait/CASIA_B/124/nm-06/090/'\n",
    "frame_list_name=os.listdir(dir)\n",
    "frame_list_name.sort()\n",
    "print(frame_list_name)"
   ]
  },
  {
   "cell_type": "code",
   "execution_count": 31,
   "id": "restricted-personality",
   "metadata": {},
   "outputs": [],
   "source": [
    "import numpy as np\n",
    "import cv2\n",
    "frame_list = [np.reshape(\n",
    "            cv2.imread(dir+_img_path),\n",
    "            [64, 64, -1])[:, :, 0]\n",
    "                      for _img_path in frame_list_name]\n"
   ]
  },
  {
   "cell_type": "code",
   "execution_count": 32,
   "id": "historical-facility",
   "metadata": {},
   "outputs": [
    {
     "name": "stdout",
     "output_type": "stream",
     "text": [
      "0\n"
     ]
    },
    {
     "data": {
      "image/png": "[encoded data removed]",
      "text/plain": [
       "<Figure size 432x288 with 1 Axes>"
      ]
     },
     "metadata": {
      "needs_background": "light"
     },
     "output_type": "display_data"
    },
    {
     "name": "stdout",
     "output_type": "stream",
     "text": [
      "1\n"
     ]
    },
    {
     "data": {
      "image/png": "[encoded data removed]",
      "text/plain": [
       "<Figure size 432x288 with 1 Axes>"
      ]
     },
     "metadata": {
      "needs_background": "light"
     },
     "output_type": "display_data"
    },
    {
     "name": "stdout",
     "output_type": "stream",
     "text": [
      "2\n"
     ]
    },
    {
     "data": {
      "image/png": "[encoded data removed]",
      "text/plain": [
       "<Figure size 432x288 with 1 Axes>"
      ]
     },
     "metadata": {
      "needs_background": "light"
     },
     "output_type": "display_data"
    },
    {
     "name": "stdout",
     "output_type": "stream",
     "text": [
      "3\n"
     ]
    },
    {
     "data": {
      "image/png": "[encoded data removed]",
      "text/plain": [
       "<Figure size 432x288 with 1 Axes>"
      ]
     },
     "metadata": {
      "needs_background": "light"
     },
     "output_type": "display_data"
    },
    {
     "name": "stdout",
     "output_type": "stream",
     "text": [
      "4\n"
     ]
    },
    {
     "data": {
      "image/png": "[encoded data removed]",
      "text/plain": [
       "<Figure size 432x288 with 1 Axes>"
      ]
     },
     "metadata": {
      "needs_background": "light"
     },
     "output_type": "display_data"
    },
    {
     "name": "stdout",
     "output_type": "stream",
     "text": [
      "5\n"
     ]
    },
    {
     "data": {
      "image/png": "[encoded data removed]",
      "text/plain": [
       "<Figure size 432x288 with 1 Axes>"
      ]
     },
     "metadata": {
      "needs_background": "light"
     },
     "output_type": "display_data"
    },
    {
     "name": "stdout",
     "output_type": "stream",
     "text": [
      "6\n"
     ]
    },
    {
     "data": {
      "image/png": "[encoded data removed]",
      "text/plain": [
       "<Figure size 432x288 with 1 Axes>"
      ]
     },
     "metadata": {
      "needs_background": "light"
     },
     "output_type": "display_data"
    },
    {
     "name": "stdout",
     "output_type": "stream",
     "text": [
      "7\n"
     ]
    },
    {
     "data": {
      "image/png": "[encoded data removed]",
      "text/plain": [
       "<Figure size 432x288 with 1 Axes>"
      ]
     },
     "metadata": {
      "needs_background": "light"
     },
     "output_type": "display_data"
    },
    {
     "name": "stdout",
     "output_type": "stream",
     "text": [
      "8\n"
     ]
    },
    {
     "data": {
      "image/png": "[encoded data removed]",
      "text/plain": [
       "<Figure size 432x288 with 1 Axes>"
      ]
     },
     "metadata": {
      "needs_background": "light"
     },
     "output_type": "display_data"
    },
    {
     "name": "stdout",
     "output_type": "stream",
     "text": [
      "9\n"
     ]
    },
    {
     "data": {
      "image/png": "[encoded data removed]",
      "text/plain": [
       "<Figure size 432x288 with 1 Axes>"
      ]
     },
     "metadata": {
      "needs_background": "light"
     },
     "output_type": "display_data"
    },
    {
     "name": "stdout",
     "output_type": "stream",
     "text": [
      "10\n"
     ]
    },
    {
     "data": {
      "image/png": "[encoded data removed]",
      "text/plain": [
       "<Figure size 432x288 with 1 Axes>"
      ]
     },
     "metadata": {
      "needs_background": "light"
     },
     "output_type": "display_data"
    },
    {
     "name": "stdout",
     "output_type": "stream",
     "text": [
      "11\n"
     ]
    },
    {
     "data": {
      "image/png": "[encoded data removed]",
      "text/plain": [
       "<Figure size 432x288 with 1 Axes>"
      ]
     },
     "metadata": {
      "needs_background": "light"
     },
     "output_type": "display_data"
    },
    {
     "name": "stdout",
     "output_type": "stream",
     "text": [
      "12\n"
     ]
    },
    {
     "data": {
      "image/png": "[encoded data removed]",
      "text/plain": [
       "<Figure size 432x288 with 1 Axes>"
      ]
     },
     "metadata": {
      "needs_background": "light"
     },
     "output_type": "display_data"
    },
    {
     "name": "stdout",
     "output_type": "stream",
     "text": [
      "13\n"
     ]
    },
    {
     "data": {
      "image/png": "[encoded data removed]",
      "text/plain": [
       "<Figure size 432x288 with 1 Axes>"
      ]
     },
     "metadata": {
      "needs_background": "light"
     },
     "output_type": "display_data"
    },
    {
     "name": "stdout",
     "output_type": "stream",
     "text": [
      "14\n"
     ]
    },
    {
     "data": {
      "image/png": "[encoded data removed]",
      "text/plain": [
       "<Figure size 432x288 with 1 Axes>"
      ]
     },
     "metadata": {
      "needs_background": "light"
     },
     "output_type": "display_data"
    },
    {
     "name": "stdout",
     "output_type": "stream",
     "text": [
      "15\n"
     ]
    },
    {
     "data": {
      "image/png": "[encoded data removed]",
      "text/plain": [
       "<Figure size 432x288 with 1 Axes>"
      ]
     },
     "metadata": {
      "needs_background": "light"
     },
     "output_type": "display_data"
    },
    {
     "name": "stdout",
     "output_type": "stream",
     "text": [
      "16\n"
     ]
    },
    {
     "data": {
      "image/png": "[encoded data removed]",
      "text/plain": [
       "<Figure size 432x288 with 1 Axes>"
      ]
     },
     "metadata": {
      "needs_background": "light"
     },
     "output_type": "display_data"
    },
    {
     "name": "stdout",
     "output_type": "stream",
     "text": [
      "17\n"
     ]
    },
    {
     "data": {
      "image/png": "[encoded data removed]",
      "text/plain": [
       "<Figure size 432x288 with 1 Axes>"
      ]
     },
     "metadata": {
      "needs_background": "light"
     },
     "output_type": "display_data"
    }
   ],
   "source": [
    "import matplotlib.pyplot as plt\n",
    "for i in range(18):\n",
    "    print(i)\n",
    "    plt.figure(i)\n",
    "    plt.imshow(frame_list[i])\n",
    "    plt.show()"
   ]
  },
  {
   "cell_type": "code",
   "execution_count": 33,
   "id": "earlier-hindu",
   "metadata": {},
   "outputs": [],
   "source": [
    "import xarray as xr\n",
    "num_list = list(range(len(frame_list)))\n",
    "data_dict = xr.DataArray(\n",
    "    frame_list,\n",
    "    coords={'frame': num_list},\n",
    "    dims=['frame', 'img_y', 'img_x'],\n",
    ")[:, :, 10:-10].astype(\n",
    "                'float32') / 255.0"
   ]
  },
  {
   "cell_type": "code",
   "execution_count": 34,
   "id": "identified-cosmetic",
   "metadata": {},
   "outputs": [
    {
     "name": "stdout",
     "output_type": "stream",
     "text": [
      "(54, 64, 44)\n",
      "torch.Size([54, 1, 64, 44])\n"
     ]
    }
   ],
   "source": [
    "seq=np.array(data_dict)\n",
    "seq = np.float32(seq)\n",
    "print(seq.shape)\n",
    "seq = torch.from_numpy(seq)\n",
    "seq = seq.unsqueeze(1)\n",
    "seq = Variable(seq.cuda())\n",
    "print(seq.shape)\n",
    "seq=seq.unsqueeze(0)"
   ]
  },
  {
   "cell_type": "code",
   "execution_count": 35,
   "id": "buried-windsor",
   "metadata": {},
   "outputs": [
    {
     "name": "stdout",
     "output_type": "stream",
     "text": [
      "torch.Size([18, 256, 64, 22])\n",
      "torch.Size([96, 18, 256])\n"
     ]
    }
   ],
   "source": [
    "seq=seq.cuda()\n",
    "out,att_map1,att_map5=net(seq)"
   ]
  },
  {
   "cell_type": "code",
   "execution_count": 22,
   "id": "delayed-productivity",
   "metadata": {},
   "outputs": [
    {
     "name": "stdout",
     "output_type": "stream",
     "text": [
      "(192, 18, 18)\n"
     ]
    }
   ],
   "source": [
    "att_map=att_map5.cpu().detach().numpy()\n",
    "print(att_map.shape)"
   ]
  },
  {
   "cell_type": "code",
   "execution_count": 37,
   "id": "understood-massachusetts",
   "metadata": {},
   "outputs": [
    {
     "name": "stdout",
     "output_type": "stream",
     "text": [
      "0\n"
     ]
    },
    {
     "data": {
      "image/png": "[encoded data removed]",
      "text/plain": [
       "<Figure size 432x288 with 1 Axes>"
      ]
     },
     "metadata": {
      "needs_background": "light"
     },
     "output_type": "display_data"
    },
    {
     "name": "stdout",
     "output_type": "stream",
     "text": [
      "1\n"
     ]
    },
    {
     "data": {
      "image/png": "[encoded data removed]",
      "text/plain": [
       "<Figure size 432x288 with 1 Axes>"
      ]
     },
     "metadata": {
      "needs_background": "light"
     },
     "output_type": "display_data"
    },
    {
     "name": "stdout",
     "output_type": "stream",
     "text": [
      "2\n"
     ]
    },
    {
     "data": {
      "image/png": "[encoded data removed]",
      "text/plain": [
       "<Figure size 432x288 with 1 Axes>"
      ]
     },
     "metadata": {
      "needs_background": "light"
     },
     "output_type": "display_data"
    },
    {
     "name": "stdout",
     "output_type": "stream",
     "text": [
      "3\n"
     ]
    },
    {
     "data": {
      "image/png": "[encoded data removed]",
      "text/plain": [
       "<Figure size 432x288 with 1 Axes>"
      ]
     },
     "metadata": {
      "needs_background": "light"
     },
     "output_type": "display_data"
    },
    {
     "name": "stdout",
     "output_type": "stream",
     "text": [
      "4\n"
     ]
    },
    {
     "data": {
      "image/png": "[encoded data removed]",
      "text/plain": [
       "<Figure size 432x288 with 1 Axes>"
      ]
     },
     "metadata": {
      "needs_background": "light"
     },
     "output_type": "display_data"
    },
    {
     "name": "stdout",
     "output_type": "stream",
     "text": [
      "5\n"
     ]
    },
    {
     "data": {
      "image/png": "[encoded data removed]",
      "text/plain": [
       "<Figure size 432x288 with 1 Axes>"
      ]
     },
     "metadata": {
      "needs_background": "light"
     },
     "output_type": "display_data"
    },
    {
     "name": "stdout",
     "output_type": "stream",
     "text": [
      "6\n"
     ]
    },
    {
     "data": {
      "image/png": "[encoded data removed]",
      "text/plain": [
       "<Figure size 432x288 with 1 Axes>"
      ]
     },
     "metadata": {
      "needs_background": "light"
     },
     "output_type": "display_data"
    },
    {
     "name": "stdout",
     "output_type": "stream",
     "text": [
      "7\n"
     ]
    },
    {
     "data": {
      "image/png": "[encoded data removed]",
      "text/plain": [
       "<Figure size 432x288 with 1 Axes>"
      ]
     },
     "metadata": {
      "needs_background": "light"
     },
     "output_type": "display_data"
    },
    {
     "name": "stdout",
     "output_type": "stream",
     "text": [
      "8\n"
     ]
    },
    {
     "data": {
      "image/png": "[encoded data removed]",
      "text/plain": [
       "<Figure size 432x288 with 1 Axes>"
      ]
     },
     "metadata": {
      "needs_background": "light"
     },
     "output_type": "display_data"
    },
    {
     "name": "stdout",
     "output_type": "stream",
     "text": [
      "9\n"
     ]
    },
    {
     "data": {
      "image/png": "[encoded data removed]",
      "text/plain": [
       "<Figure size 432x288 with 1 Axes>"
      ]
     },
     "metadata": {
      "needs_background": "light"
     },
     "output_type": "display_data"
    },
    {
     "name": "stdout",
     "output_type": "stream",
     "text": [
      "10\n"
     ]
    },
    {
     "data": {
      "image/png": "[encoded data removed]",
      "text/plain": [
       "<Figure size 432x288 with 1 Axes>"
      ]
     },
     "metadata": {
      "needs_background": "light"
     },
     "output_type": "display_data"
    },
    {
     "name": "stdout",
     "output_type": "stream",
     "text": [
      "11\n"
     ]
    },
    {
     "data": {
      "image/png": "[encoded data removed]",
      "text/plain": [
       "<Figure size 432x288 with 1 Axes>"
      ]
     },
     "metadata": {
      "needs_background": "light"
     },
     "output_type": "display_data"
    },
    {
     "name": "stdout",
     "output_type": "stream",
     "text": [
      "12\n"
     ]
    },
    {
     "data": {
      "image/png": "[encoded data removed]",
      "text/plain": [
       "<Figure size 432x288 with 1 Axes>"
      ]
     },
     "metadata": {
      "needs_background": "light"
     },
     "output_type": "display_data"
    },
    {
     "name": "stdout",
     "output_type": "stream",
     "text": [
      "13\n"
     ]
    },
    {
     "data": {
      "image/png": "[encoded data removed]",
      "text/plain": [
       "<Figure size 432x288 with 1 Axes>"
      ]
     },
     "metadata": {
      "needs_background": "light"
     },
     "output_type": "display_data"
    },
    {
     "name": "stdout",
     "output_type": "stream",
     "text": [
      "14\n"
     ]
    },
    {
     "data": {
      "image/png": "[encoded data removed]",
      "text/plain": [
       "<Figure size 432x288 with 1 Axes>"
      ]
     },
     "metadata": {
      "needs_background": "light"
     },
     "output_type": "display_data"
    },
    {
     "name": "stdout",
     "output_type": "stream",
     "text": [
      "15\n"
     ]
    },
    {
     "data": {
      "image/png": "[encoded data removed]",
      "text/plain": [
       "<Figure size 432x288 with 1 Axes>"
      ]
     },
     "metadata": {
      "needs_background": "light"
     },
     "output_type": "display_data"
    },
    {
     "name": "stdout",
     "output_type": "stream",
     "text": [
      "16\n"
     ]
    },
    {
     "data": {
      "image/png": "[encoded data removed]",
      "text/plain": [
       "<Figure size 432x288 with 1 Axes>"
      ]
     },
     "metadata": {
      "needs_background": "light"
     },
     "output_type": "display_data"
    },
    {
     "name": "stdout",
     "output_type": "stream",
     "text": [
      "17\n"
     ]
    },
    {
     "data": {
      "image/png": "[encoded data removed]",
      "text/plain": [
       "<Figure size 432x288 with 1 Axes>"
      ]
     },
     "metadata": {
      "needs_background": "light"
     },
     "output_type": "display_data"
    },
    {
     "name": "stdout",
     "output_type": "stream",
     "text": [
      "18\n"
     ]
    },
    {
     "data": {
      "image/png": "[encoded data removed]",
      "text/plain": [
       "<Figure size 432x288 with 1 Axes>"
      ]
     },
     "metadata": {
      "needs_background": "light"
     },
     "output_type": "display_data"
    },
    {
     "name": "stdout",
     "output_type": "stream",
     "text": [
      "19\n"
     ]
    },
    {
     "data": {
      "image/png": "[encoded data removed]",
      "text/plain": [
       "<Figure size 432x288 with 1 Axes>"
      ]
     },
     "metadata": {
      "needs_background": "light"
     },
     "output_type": "display_data"
    },
    {
     "name": "stdout",
     "output_type": "stream",
     "text": [
      "20\n"
     ]
    },
    {
     "data": {
      "image/png": "[encoded data removed]",
      "text/plain": [
       "<Figure size 432x288 with 1 Axes>"
      ]
     },
     "metadata": {
      "needs_background": "light"
     },
     "output_type": "display_data"
    },
    {
     "name": "stdout",
     "output_type": "stream",
     "text": [
      "21\n"
     ]
    },
    {
     "data": {
      "image/png": "[encoded data removed]",
      "text/plain": [
       "<Figure size 432x288 with 1 Axes>"
      ]
     },
     "metadata": {
      "needs_background": "light"
     },
     "output_type": "display_data"
    },
    {
     "name": "stdout",
     "output_type": "stream",
     "text": [
      "22\n"
     ]
    },
    {
     "data": {
      "image/png": "[encoded data removed]",
      "text/plain": [
       "<Figure size 432x288 with 1 Axes>"
      ]
     },
     "metadata": {
      "needs_background": "light"
     },
     "output_type": "display_data"
    },
    {
     "name": "stdout",
     "output_type": "stream",
     "text": [
      "23\n"
     ]
    },
    {
     "data": {
      "image/png": "[encoded data removed]",
      "text/plain": [
       "<Figure size 432x288 with 1 Axes>"
      ]
     },
     "metadata": {
      "needs_background": "light"
     },
     "output_type": "display_data"
    },
    {
     "name": "stdout",
     "output_type": "stream",
     "text": [
      "24\n"
     ]
    },
    {
     "data": {
      "image/png": "[encoded data removed]",
      "text/plain": [
       "<Figure size 432x288 with 1 Axes>"
      ]
     },
     "metadata": {
      "needs_background": "light"
     },
     "output_type": "display_data"
    },
    {
     "name": "stdout",
     "output_type": "stream",
     "text": [
      "25\n"
     ]
    },
    {
     "data": {
      "image/png": "[encoded data removed]",
      "text/plain": [
       "<Figure size 432x288 with 1 Axes>"
      ]
     },
     "metadata": {
      "needs_background": "light"
     },
     "output_type": "display_data"
    },
    {
     "name": "stdout",
     "output_type": "stream",
     "text": [
      "26\n"
     ]
    },
    {
     "data": {
      "image/png": "[encoded data removed]",
      "text/plain": [
       "<Figure size 432x288 with 1 Axes>"
      ]
     },
     "metadata": {
      "needs_background": "light"
     },
     "output_type": "display_data"
    },
    {
     "name": "stdout",
     "output_type": "stream",
     "text": [
      "27\n"
     ]
    },
    {
     "data": {
      "image/png": "[encoded data removed]",
      "text/plain": [
       "<Figure size 432x288 with 1 Axes>"
      ]
     },
     "metadata": {
      "needs_background": "light"
     },
     "output_type": "display_data"
    },
    {
     "name": "stdout",
     "output_type": "stream",
     "text": [
      "28\n"
     ]
    },
    {
     "data": {
      "image/png": "[encoded data removed]",
      "text/plain": [
       "<Figure size 432x288 with 1 Axes>"
      ]
     },
     "metadata": {
      "needs_background": "light"
     },
     "output_type": "display_data"
    },
    {
     "name": "stdout",
     "output_type": "stream",
     "text": [
      "29\n"
     ]
    },
    {
     "data": {
      "image/png": "[encoded data removed]",
      "text/plain": [
       "<Figure size 432x288 with 1 Axes>"
      ]
     },
     "metadata": {
      "needs_background": "light"
     },
     "output_type": "display_data"
    }
   ],
   "source": [
    "import matplotlib.pyplot as plt\n",
    "for i in range(30):\n",
    "    print(i)\n",
    "    plt.figure(i)\n",
    "    plt.imshow(att_map[i])\n",
    "    plt.show()"
   ]
  },
  {
   "cell_type": "code",
   "execution_count": 5,
   "id": "copyrighted-pioneer",
   "metadata": {},
   "outputs": [],
   "source": [
    "import torch\n",
    "import torch.nn as nn\n",
    "import torch.nn.functional as F\n",
    "from torch.autograd import Variable\n",
    "import math\n",
    "from functools import partial\n",
    "from torch.nn.parameter import Parameter\n",
    "from network.motion_flow import CorrBlock\n",
    "import torch.nn as nn\n",
    "\n",
    "def gem(x, p=6.5, eps=1e-6):\n",
    "    # print('x-',x.shape)\n",
    "    # print('xpow-',x.clamp(min=eps).pow(p).shape)\n",
    "    # print(F.avg_pool2d(x.clamp(min=eps).pow(p), (1, x.size(-1))).shape)\n",
    "    return F.avg_pool2d(x.clamp(min=eps).pow(p), (1, x.size(-1))).pow(1./p)\n",
    "\n",
    "class GeM(nn.Module):\n",
    "\n",
    "    def __init__(self, p=6.5, eps=1e-6):\n",
    "        super(GeM,self).__init__()\n",
    "        self.p = Parameter(torch.ones(1)*p)\n",
    "        self.eps = eps\n",
    "\n",
    "    def forward(self, x):\n",
    "        # print('p-',self.p)\n",
    "        return gem(x, p=self.p, eps=self.eps)\n",
    "        \n",
    "    def __repr__(self):\n",
    "        return self.__class__.__name__ + '(' + 'p=' + '{:.4f}'.format(self.p.data.tolist()[0]) + ', ' + 'eps=' + str(self.eps) + ')'\n",
    "\n",
    "def gem1(x, p=3, eps=1e-6):\n",
    "    return F.avg_pool2d(x.clamp(min=eps).pow(p), (x.size(-2), x.size(-1))).pow(1./p)\n",
    "class GeM_1(nn.Module):\n",
    "    def __init__(self, p=3, eps=1e-6):\n",
    "        super(GeM_1,self).__init__()\n",
    "        #self.p = Parameter(torch.ones(1)*p)\n",
    "        self.p=1\n",
    "        self.eps = eps\n",
    "    def forward(self, x):\n",
    "        return gem1(x, p=self.p, eps=self.eps)       \n",
    "    def __repr__(self):\n",
    "        return self.__class__.__name__ + '(' + 'p=' + '{:.4f}'.format(self.p) + ', ' + 'eps=' + str(self.eps) + ')'\n",
    "\n",
    "\n",
    "    \n",
    "class Temporal(nn.Module):\n",
    "    def __init__(self, inplanes, planes, bias=False, **kwargs):\n",
    "        super(Temporal, self).__init__()\n",
    "\n",
    "    def forward(self, x):\n",
    "        \n",
    "        out = torch.max(x, 2)[0]\n",
    "        return out\n",
    "\n",
    "\n",
    "class BasicConv3d_p(nn.Module):\n",
    "    def __init__(self, inplanes, planes, kernel=3, bias=False, p=2, FM=False, **kwargs):\n",
    "        super(BasicConv3d_p, self).__init__()\n",
    "        self.p = p\n",
    "        self.fm = FM\n",
    "        self.convdl = nn.Conv3d(inplanes, planes, kernel_size=(kernel, kernel, kernel), bias=bias, padding=((kernel-1)//2, (kernel-1)//2, (kernel-1)//2))\n",
    "        self.convdg = nn.Conv3d(inplanes, planes, kernel_size=(kernel, kernel, kernel), bias=bias, padding=((kernel-1)//2, (kernel-1)//2, (kernel-1)//2))\n",
    "    def forward(self, x):\n",
    "        n, c, t, h, w = x.size()\n",
    "        scale = h//self.p\n",
    "        # print('p-',x.shape,n, c, t, h, w,'scale-',scale)\n",
    "        feature = list()\n",
    "        for i in range(self.p):\n",
    "            temp = self.convdl(x[:,:,:,i*scale:(i+1)*scale,:])\n",
    "            # print(temp.shape,i*scale,(i+1)*scale)\n",
    "            feature.append(temp)\n",
    "\n",
    "        outl = torch.cat(feature, 3)\n",
    "        # print('outl-',outl.shape)\n",
    "        outl = F.leaky_relu(outl, inplace=True)\n",
    "\n",
    "        outg = self.convdg(x)\n",
    "        outg = F.leaky_relu(outg, inplace=True)\n",
    "        # print('outg-',outg.shape)\n",
    "        if not self.fm:\n",
    "            # print('1-1')\n",
    "            out = outg + outl\n",
    "        else:\n",
    "            # print('1-2')\n",
    "            out = torch.cat((outg, outl), dim=3)\n",
    "        return out\n",
    "\n",
    "\n",
    "class BasicConv3d(nn.Module):\n",
    "    def __init__(self, inplanes, planes, dilation=1, bias=False, **kwargs):\n",
    "        super(BasicConv3d, self).__init__()\n",
    "        self.conv1 = nn.Conv3d(inplanes, planes, kernel_size=(3, 3, 3), bias=bias, dilation=(dilation, 1, 1), padding=(dilation, 1, 1))\n",
    "\n",
    "    def forward(self, x):\n",
    "        out = self.conv1(x)\n",
    "        out = F.leaky_relu(out, inplace=True)\n",
    "        return out\n",
    "\n",
    "class LocaltemporalAG(nn.Module):\n",
    "    def __init__(self, inplanes, planes, dilation=1, bias=False, **kwargs):\n",
    "        super(LocaltemporalAG, self).__init__()\n",
    "        self.conv1 = nn.Conv3d(inplanes, planes, kernel_size=(3, 1, 1), stride=(3,1,1), bias=bias,padding=(0, 0, 0))\n",
    "\n",
    "    def forward(self, x):\n",
    "        out1 = self.conv1(x)\n",
    "        out = F.leaky_relu(out1, inplace=True)\n",
    "        return out\n",
    "\n",
    "class LocaltemporalAG33(nn.Module):\n",
    "    def __init__(self, inplanes, planes, dilation=1, bias=False, **kwargs):\n",
    "        super(LocaltemporalAG33, self).__init__()\n",
    "        self.conv1 = nn.Conv3d(inplanes, planes, kernel_size=(3, 3, 3), stride=(3,1,1), bias=bias,padding=(0, 1, 1))\n",
    "\n",
    "    def forward(self, x):\n",
    "        out1 = self.conv1(x)\n",
    "        out = F.leaky_relu(out1, inplace=True)\n",
    "        return out\n",
    "\n",
    "\n",
    "class C3D_VGG(nn.Module):\n",
    "\n",
    "    def __init__(self, num_classes=74):\n",
    "        super(C3D_VGG, self).__init__()\n",
    "        _set_channels = [32, 64, 128, 256]\n",
    "\n",
    "        # --------------------------------  2d gei---------------------------------------\n",
    "        self.conv2dlayer1a = BasicConv3d(1, _set_channels[0], kernel=3)\n",
    "        # self.conv2dlayer1b = BasicConv3d(_set_channels[0], _set_channels[0])\n",
    "        self.pool2d1 = LocaltemporalAG(_set_channels[0], _set_channels[0])\n",
    "\n",
    "\n",
    "        self.conv2dlayer2a = BasicConv3d_p(_set_channels[0], _set_channels[1])\n",
    "        # self.conv2dlayer2b = BasicConv3d(_set_channels[1], _set_channels[1])\n",
    "        self.pool2d2 = nn.MaxPool3d(kernel_size=(1, 2, 2), stride=(1, 2, 2))\n",
    "\n",
    "        self.conv2dlayer25a_3d = BasicConv3d_p(_set_channels[1], _set_channels[2])\n",
    "        self.conv2dlayer25b_3d = BasicConv3d_p(_set_channels[2], _set_channels[2])\n",
    "\n",
    "        self.conv2dlayer3a_3d = BasicConv3d_p(_set_channels[2], _set_channels[3])\n",
    "        self.conv2dlayer3b_3d = BasicConv3d_p(_set_channels[3], _set_channels[3], FM=True)\n",
    "\n",
    "        self.fpb3d = Temporal(_set_channels[3], _set_channels[3])\n",
    "\n",
    "        self.Gem = GeM()\n",
    "\n",
    "\n",
    "        self.bin_numgl = [32*2]\n",
    "        self.fc_bin = nn.ParameterList([\n",
    "            nn.Parameter(\n",
    "                nn.init.xavier_uniform_(\n",
    "                    torch.zeros(sum(self.bin_numgl), _set_channels[3], _set_channels[3])))\n",
    "                    ])\n",
    "                \n",
    "\n",
    "\n",
    "\n",
    "        self.relu = nn.ReLU()\n",
    "        for m in self.modules():\n",
    "            # print('---')\n",
    "            if isinstance(m, (nn.Conv3d, nn.Conv2d, nn.Conv1d)):\n",
    "                nn.init.xavier_uniform_(m.weight.data)\n",
    "            elif isinstance(m, nn.Linear):\n",
    "                nn.init.xavier_uniform_(m.weight.data)\n",
    "                nn.init.constant_(m.bias.data, 0.0)\n",
    "            elif isinstance(m, (nn.BatchNorm3d, nn.BatchNorm2d, nn.BatchNorm1d)):\n",
    "                nn.init.normal_(m.weight.data, 1.0, 0.02)\n",
    "                nn.init.constant_(m.bias.data, 0.0)\n",
    "\n",
    "    def forward(self, x):\n",
    "        # print(x.shape)\n",
    "        n, c, t, h, w = x.size()\n",
    "        if t == 1:\n",
    "            x = x.repeat(1, 1, 3, 1, 1)\n",
    "        elif t == 2:\n",
    "            x = x.repeat(1, 1, 2, 1, 1)\n",
    "        elif t == 3:\n",
    "            x = torch.cat((x,x[:,:,0:1,:,:]),dim=2)\n",
    "        # print(x.shape)\n",
    "\n",
    "        # ----------------2d--------------------\n",
    "        x2d = self.conv2dlayer1a(x)\n",
    "        # x2d = self.conv2dlayer1b(x2d)\n",
    "        x2d = self.pool2d1(x2d)\n",
    "        # print('pool2d1-',x2d.shape)\n",
    "        x2d = self.conv2dlayer2a(x2d)\n",
    "        # x2d = self.conv2dlayer2b(x2d)\n",
    "        x2d = self.pool2d2(x2d)\n",
    "        # print('pool2d2-',x2d.shape)\n",
    "\n",
    "        x2d = self.conv2dlayer25a_3d(x2d)\n",
    "        x2d = self.conv2dlayer25b_3d(x2d)\n",
    "\n",
    "        x2da3d = self.conv2dlayer3a_3d(x2d)\n",
    "        # print('conv2dlayer3a_3d-',x2da3d.shape)\n",
    "        x2db3d = self.conv2dlayer3b_3d(x2da3d) # b t 256 64 22 \n",
    "        # print('conv2dlayer3b_3d-',x2db3d.shape)\n",
    "\n",
    "\n",
    "\n",
    "        x2db3d = self.fpb3d(x2db3d)\n",
    "        print('x2db-',x2db3d.shape)\n",
    "\n",
    "        # xgem = self.Gem(x2db3d)\n",
    "        # print('xgem-',xgem.shape)\n",
    "\n",
    "        _, c2d, _, _ = x2db3d.size()\n",
    "\n",
    "        feature = list()\n",
    "        for num_bin in self.bin_numgl:\n",
    "            z = x2db3d.view(n, c2d, num_bin, -1).contiguous()\n",
    "            # z1 = z.mean(3) + z.max(3)[0]\n",
    "            # print('z1-',z1.shape)\n",
    "            z2 = self.Gem(z).squeeze(-1)\n",
    "            # print('z2-',z2.shape)\n",
    "            feature.append(z2)\n",
    "        feature = torch.cat(feature, 2).permute(2, 0, 1).contiguous()\n",
    "        print('feature',feature.shape)\n",
    "        feature = feature.matmul(self.fc_bin[0])\n",
    "        feature = feature.permute(1, 2, 0).contiguous()\n",
    "        print('feature',feature.shape)\n",
    "\n",
    "        return feature,None\n",
    "\n",
    "class C3D_VGG_angle(nn.Module):\n",
    "\n",
    "    def __init__(self, num_classes=74):\n",
    "        super(C3D_VGG_angle, self).__init__()\n",
    "        _set_channels = [32, 64, 128, 256]\n",
    "\n",
    "        # --------------------------------  2d gei---------------------------------------\n",
    "        self.conv2dlayer1a = BasicConv3d(1, _set_channels[0], kernel=3)\n",
    "        # self.conv2dlayer1b = BasicConv3d(_set_channels[0], _set_channels[0])\n",
    "        self.pool2d1 = LocaltemporalAG(_set_channels[0], _set_channels[0])\n",
    "\n",
    "\n",
    "        self.conv2dlayer2a = BasicConv3d_p(_set_channels[0], _set_channels[1])\n",
    "        # self.conv2dlayer2b = BasicConv3d(_set_channels[1], _set_channels[1])\n",
    "        self.pool2d2 = nn.MaxPool3d(kernel_size=(1, 2, 2), stride=(1, 2, 2))\n",
    "\n",
    "        self.conv2dlayer25a_3d = BasicConv3d_p(_set_channels[1], _set_channels[2])\n",
    "        self.conv2dlayer25b_3d = BasicConv3d_p(_set_channels[2], _set_channels[2],FM=True)\n",
    "\n",
    "        self.conv2dlayer3a_3d = BasicConv3d_p(_set_channels[2], _set_channels[3])\n",
    "        self.conv2dlayer3b_3d = BasicConv3d_p(_set_channels[3], _set_channels[3], FM=True)\n",
    "\n",
    "        self.fpb3d = Temporal(_set_channels[2], _set_channels[2])\n",
    "\n",
    "        self.Gem = GeM()\n",
    "        self.avgpool = GeM_1()\n",
    "        self.cls=nn.Linear(in_features=_set_channels[2], out_features=11)\n",
    "        \n",
    "        self.trans_view=nn.ParameterList([\n",
    "            nn.Parameter(\n",
    "                nn.init.xavier_uniform_(\n",
    "                    torch.zeros(64, 128, 256)))]*11)\n",
    "        self.bin_numgl = [32*2]\n",
    "        self.fc_bin = nn.ParameterList([\n",
    "            nn.Parameter(\n",
    "                nn.init.xavier_uniform_(\n",
    "                    torch.zeros(sum(self.bin_numgl), _set_channels[3], _set_channels[3])))\n",
    "                    ])\n",
    "                \n",
    "\n",
    "\n",
    "\n",
    "        self.relu = nn.ReLU()\n",
    "        for m in self.modules():\n",
    "            # print('---')\n",
    "            if isinstance(m, (nn.Conv3d, nn.Conv2d, nn.Conv1d)):\n",
    "                nn.init.xavier_uniform_(m.weight.data)\n",
    "            elif isinstance(m, nn.Linear):\n",
    "                nn.init.xavier_uniform_(m.weight.data)\n",
    "                nn.init.constant_(m.bias.data, 0.0)\n",
    "            elif isinstance(m, (nn.BatchNorm3d, nn.BatchNorm2d, nn.BatchNorm1d)):\n",
    "                nn.init.normal_(m.weight.data, 1.0, 0.02)\n",
    "                nn.init.constant_(m.bias.data, 0.0)\n",
    "\n",
    "    def forward(self, x):\n",
    "        # print(x.shape)\n",
    "        n, c, t, h, w = x.size()\n",
    "        if t == 1:\n",
    "            x = x.repeat(1, 1, 3, 1, 1)\n",
    "        elif t == 2:\n",
    "            x = x.repeat(1, 1, 2, 1, 1)\n",
    "        elif t == 3:\n",
    "            x = torch.cat((x,x[:,:,0:1,:,:]),dim=2)\n",
    "        # print(x.shape)\n",
    "\n",
    "        # ----------------2d--------------------\n",
    "        x2d = self.conv2dlayer1a(x)\n",
    "        # x2d = self.conv2dlayer1b(x2d)\n",
    "        x2d = self.pool2d1(x2d)\n",
    "        print('pool2d1-',x2d.shape)\n",
    "        x2d = self.conv2dlayer2a(x2d)\n",
    "        # x2d = self.conv2dlayer2b(x2d)\n",
    "        x2d = self.pool2d2(x2d)\n",
    "        print('pool2d2-',x2d.shape)\n",
    "\n",
    "        x2d = self.conv2dlayer25a_3d(x2d)\n",
    "        x2d = self.conv2dlayer25b_3d(x2d)\n",
    "        print('3:',x2d.shape)\n",
    "        #x2da3d = self.conv2dlayer3a_3d(x2d)\n",
    "        # print('conv2dlayer3a_3d-',x2da3d.shape)\n",
    "        #x2db3d = self.conv2dlayer3b_3d(x2da3d)\n",
    "        # print('conv2dlayer3b_3d-',x2db3d.shape)\n",
    "\n",
    "\n",
    "\n",
    "        x2db3d = self.fpb3d(x2d)\n",
    "        print('4:',x2db3d.shape)\n",
    "        n, c2d, _, _ = x2db3d.size()\n",
    "        x_feat=self.avgpool(x2db3d)\n",
    "        x_feat=x_feat.view(n,c2d)\n",
    "        angle_probe=self.cls(x_feat) # n 11\n",
    "        _,angle= torch.max(angle_probe, 1)\n",
    "        \n",
    "        # print('x2db-',x2db3d.shape)\n",
    "\n",
    "        # xgem = self.Gem(x2db3d)\n",
    "        # print('xgem-',xgem.shape)\n",
    "\n",
    "        _, c2d, _, _ = x2db3d.size()\n",
    "\n",
    "        feature = list()\n",
    "        for num_bin in self.bin_numgl:\n",
    "            z = x2db3d.view(n, c2d, num_bin, -1).contiguous()\n",
    "            # z1 = z.mean(3) + z.max(3)[0]\n",
    "            # print('z1-',z1.shape)\n",
    "            z2 = self.Gem(z).squeeze(-1)\n",
    "            # print('z2-',z2.shape)\n",
    "            feature.append(z2)\n",
    "        feature = torch.cat(feature, 2).permute(2, 0, 1).contiguous() #  64 n 256\n",
    "        # print('feature',feature.shape)\n",
    "        #feature = feature.matmul(self.fc_bin[0]) # 64 n 256\n",
    "        #feature = feature.permute(1, 2, 0).contiguous() #n 256 64\n",
    "        feature = feature.permute(1, 0, 2).contiguous()#n 64 256 \n",
    "        \n",
    "        feature_rt=[]\n",
    "        for j in range(feature.shape[0]):\n",
    "            #print(feature[j].shape)\n",
    "            feature_now=((feature[j].unsqueeze(1)).bmm(self.trans_view[angle[j]])).squeeze(1) # 64*256\n",
    "            feature_rt.append(feature_now)\n",
    "        # print('feature',feature.shape)\n",
    "        feature = torch.cat([x.unsqueeze(0) for x in feature_rt]) # n 64 256\n",
    "        feature = feature.permute(0, 2, 1).contiguous()\n",
    "        #print(feature.shape)\n",
    "        return feature,None,angle_probe\n",
    "\n",
    "def params_count(net):\n",
    "    list1 = []\n",
    "    for p in net.parameters():\n",
    "        # print('p-',p.shape)\n",
    "        list1.append(p)\n",
    "    # print('len(net.parameters)',len(list1))\n",
    "    n_parameters = sum(p.numel() for p in net.parameters())\n",
    "    print('-----Model param: {:.5f}M'.format(n_parameters / 1e6))\n",
    "    # print('-----Model memory: {:.5f}M'.format(n_parameters/1e6))\n",
    "    return n_parameters\n",
    "\n",
    "\n",
    "def c3d_vgg_Fusion(**kwargs):\n",
    "    \"\"\"Constructs a ResNet-101 model.\n",
    "    \"\"\"\n",
    "    model = C3D_VGG(**kwargs)\n",
    "    return model\n",
    "\n",
    "\n",
    "class C3D_VGG_angle_emb(nn.Module):\n",
    "\n",
    "    def __init__(self, num_classes=74):\n",
    "        super(C3D_VGG_angle_emb, self).__init__()\n",
    "        _set_channels = [32, 64, 128, 256]\n",
    "        self.view_nums=11\n",
    "        # --------------------------------  2d gei---------------------------------------\n",
    "        self.conv2dlayer1a = BasicConv3d(1, _set_channels[0], kernel=3)\n",
    "        # self.conv2dlayer1b = BasicConv3d(_set_channels[0], _set_channels[0])\n",
    "        self.pool2d1 = LocaltemporalAG(_set_channels[0], _set_channels[0])\n",
    "\n",
    "\n",
    "        self.conv2dlayer2a = BasicConv3d_p(_set_channels[0], _set_channels[1])\n",
    "        # self.conv2dlayer2b = BasicConv3d(_set_channels[1], _set_channels[1])\n",
    "        self.pool2d2 = nn.MaxPool3d(kernel_size=(1, 2, 2), stride=(1, 2, 2))\n",
    "\n",
    "        self.conv2dlayer25a_3d = BasicConv3d_p(_set_channels[1], _set_channels[2])\n",
    "        self.conv2dlayer25b_3d = BasicConv3d_p(_set_channels[2], _set_channels[2],FM=True)\n",
    "\n",
    "        self.conv2dlayer3a_3d = BasicConv3d_p(_set_channels[2], _set_channels[3])\n",
    "        self.conv2dlayer3b_3d = BasicConv3d_p(_set_channels[3], _set_channels[3], FM=True)\n",
    "\n",
    "        self.fpb3d = Temporal(_set_channels[2], _set_channels[2])\n",
    "\n",
    "        self.Gem = GeM()\n",
    "        self.avgpool = GeM_1()\n",
    "        self.cls=nn.Linear(in_features=_set_channels[2], out_features=11)\n",
    "        '''\n",
    "        self.trans_view=nn.ParameterList([\n",
    "            nn.Parameter(\n",
    "                nn.init.xavier_uniform_(\n",
    "                    torch.zeros(64, 128, 256)))]*11)\n",
    "        '''\n",
    "\n",
    "\n",
    "\n",
    "        self.view_embedding_64 = nn.Parameter(torch.randn(self.view_nums,_set_channels[1],1))\n",
    "\n",
    "        self.bin_numgl = [32*2]\n",
    "        self.fc_bin = nn.Parameter(\n",
    "                nn.init.xavier_uniform_(\n",
    "                    torch.zeros(sum(self.bin_numgl), _set_channels[2]+_set_channels[1], _set_channels[3])))\n",
    "                    \n",
    "                \n",
    "\n",
    "\n",
    "\n",
    "        self.relu = nn.ReLU()\n",
    "        for m in self.modules():\n",
    "            # print('---')\n",
    "            if isinstance(m, (nn.Conv3d, nn.Conv2d, nn.Conv1d)):\n",
    "                nn.init.xavier_uniform_(m.weight.data)\n",
    "            elif isinstance(m, nn.Linear):\n",
    "                nn.init.xavier_uniform_(m.weight.data)\n",
    "                nn.init.constant_(m.bias.data, 0.0)\n",
    "            elif isinstance(m, (nn.BatchNorm3d, nn.BatchNorm2d, nn.BatchNorm1d)):\n",
    "                nn.init.normal_(m.weight.data, 1.0, 0.02)\n",
    "                nn.init.constant_(m.bias.data, 0.0)\n",
    "\n",
    "    def forward(self, x):\n",
    "        # print(x.shape)\n",
    "        x=x.permute(0,2,1,3,4).contiguous()\n",
    "        n, c, t, h, w = x.size()\n",
    "        if t == 1:\n",
    "            x = x.repeat(1, 1, 3, 1, 1)\n",
    "        elif t == 2:\n",
    "            x = x.repeat(1, 1, 2, 1, 1)\n",
    "        elif t == 3:\n",
    "            x = torch.cat((x,x[:,:,0:1,:,:]),dim=2)\n",
    "        # print(x.shape)\n",
    "\n",
    "        # ----------------2d--------------------\n",
    "        x2d = self.conv2dlayer1a(x)\n",
    "        # x2d = self.conv2dlayer1b(x2d)\n",
    "        x2d = self.pool2d1(x2d)\n",
    "        #print('pool2d1-',x2d.shape)\n",
    "        x2d = self.conv2dlayer2a(x2d)\n",
    "        # x2d = self.conv2dlayer2b(x2d)\n",
    "        x2d = self.pool2d2(x2d)\n",
    "        #print('pool2d2-',x2d.shape)\n",
    "\n",
    "        x2d = self.conv2dlayer25a_3d(x2d)\n",
    "        x2d = self.conv2dlayer25b_3d(x2d) # b 256 t 64 22\n",
    "\n",
    "\n",
    "        #print('3:',x2d.shape)\n",
    "        #x2da3d = self.conv2dlayer3a_3d(x2d)\n",
    "        # print('conv2dlayer3a_3d-',x2da3d.shape)\n",
    "        #x2db3d = self.conv2dlayer3b_3d(x2da3d)\n",
    "        # print('conv2dlayer3b_3d-',x2db3d.shape)\n",
    "\n",
    "\n",
    "\n",
    "        x2db3d = self.fpb3d(x2d)\n",
    "        #print('4:',x2db3d.shape)\n",
    "        n, c2d, _, _ = x2db3d.size()\n",
    "        x_feat=self.avgpool(x2db3d)\n",
    "        x_feat=x_feat.view(n,c2d)\n",
    "        angle_probe=self.cls(x_feat) # n 11\n",
    "        _,angle= torch.max(angle_probe, 1)\n",
    "        \n",
    "        #print('x2db-',x2db3d.shape)\n",
    "\n",
    "        # xgem = self.Gem(x2db3d)\n",
    "        # print('xgem-',xgem.shape)\n",
    "\n",
    "        _, c2d, _, _ = x2db3d.size()\n",
    "\n",
    "        feature = list()\n",
    "        for num_bin in self.bin_numgl:\n",
    "            z = x2db3d.view(n, c2d, num_bin, -1).contiguous()\n",
    "            # z1 = z.mean(3) + z.max(3)[0]\n",
    "            # print('z1-',z1.shape)\n",
    "            #z2 = self.Gem(z).squeeze(-1)\n",
    "            z2=torch.cat((self.Gem(z).squeeze(-1),self.view_embedding_64[angle].expand(-1,-1,num_bin)),1)\n",
    "            # print('z2-',z2.shape)\n",
    "            feature.append(z2)\n",
    "        feature = torch.cat(feature, 2).permute(2, 0, 1).contiguous() #  64 n 256\n",
    "        #print('feature',feature.shape)\n",
    "        feature = feature.matmul(self.fc_bin) # 64 n 256\n",
    "        feature = feature.permute(1, 2, 0).contiguous()\n",
    "        #feature = feature.permute(1, 2, 0).contiguous() #n 256 64\n",
    "        #feature = feature.permute(1, 0, 2).contiguous()#n 64 256 \n",
    "        '''\n",
    "        feature_rt=[]\n",
    "        for j in range(feature.shape[0]):\n",
    "            #print(feature[j].shape)\n",
    "            feature_now=((feature[j].unsqueeze(1)).bmm(self.trans_view[angle[j]])).squeeze(1) # 64*256\n",
    "            feature_rt.append(feature_now)\n",
    "        # print('feature',feature.shape)\n",
    "        feature = torch.cat([x.unsqueeze(0) for x in feature_rt]) # n 64 256\n",
    "        feature = feature.permute(0, 2, 1).contiguous()\n",
    "        #print(feature.shape)\n",
    "        '''\n",
    "        return feature,angle_probe\n",
    "\n",
    "\n",
    "\n",
    "class C3D_VGG_angle_emb_motion(nn.Module):\n",
    "\n",
    "    def __init__(self, num_classes=74):\n",
    "        super(C3D_VGG_angle_emb_motion, self).__init__()\n",
    "        _set_channels = [32, 64, 128, 256]\n",
    "        self.view_nums=11\n",
    "        self.radius=3\n",
    "        # --------------------------------  2d gei---------------------------------------\n",
    "        self.conv2dlayer1a = BasicConv3d(1, _set_channels[0], kernel=3)\n",
    "        # self.conv2dlayer1b = BasicConv3d(_set_channels[0], _set_channels[0])\n",
    "        self.pool2d1 = LocaltemporalAG(_set_channels[0], _set_channels[0])\n",
    "\n",
    "\n",
    "        self.conv2dlayer2a = BasicConv3d_p(_set_channels[0], _set_channels[1])\n",
    "        # self.conv2dlayer2b = BasicConv3d(_set_channels[1], _set_channels[1])\n",
    "        self.pool2d2 = nn.MaxPool3d(kernel_size=(1, 2, 2), stride=(1, 2, 2))\n",
    "\n",
    "        self.conv2dlayer25a_3d = BasicConv3d_p(_set_channels[1], _set_channels[2])\n",
    "        self.conv2dlayer25b_3d = BasicConv3d_p(_set_channels[2], _set_channels[2],FM=True)\n",
    "\n",
    "        self.conv2dlayer3a_3d = BasicConv3d_p(_set_channels[2], _set_channels[3])\n",
    "        self.conv2dlayer3b_3d = BasicConv3d_p(_set_channels[3], _set_channels[3], FM=True)\n",
    "\n",
    "        self.fpb3d = Temporal(_set_channels[2], _set_channels[2])\n",
    "\n",
    "        self.Gem = GeM()\n",
    "        self.avgpool = GeM_1()\n",
    "        self.cls=nn.Linear(in_features=_set_channels[2], out_features=11)\n",
    "        '''\n",
    "        self.trans_view=nn.ParameterList([\n",
    "            nn.Parameter(\n",
    "                nn.init.xavier_uniform_(\n",
    "                    torch.zeros(64, 128, 256)))]*11)\n",
    "        '''\n",
    "        self.view_embedding_64 = nn.Parameter(torch.randn(self.view_nums,_set_channels[1],1))\n",
    "\n",
    "        self.bin_numgl = [32*2]\n",
    "        self.fc_bin = nn.Parameter(\n",
    "                nn.init.xavier_uniform_(\n",
    "                    torch.zeros(sum(self.bin_numgl), _set_channels[2]+_set_channels[1], _set_channels[3])))\n",
    "        \n",
    "        \n",
    "        self.view_embedding_64_motion = nn.Parameter(torch.randn(self.view_nums,_set_channels[1],1))\n",
    "\n",
    "        self.bin_numgl_motion = [8]\n",
    "        self.fc_bin_motion = nn.Parameter(\n",
    "                nn.init.xavier_uniform_(\n",
    "                    torch.zeros(sum(self.bin_numgl_motion), _set_channels[2]+_set_channels[1], _set_channels[3])))\n",
    "                    \n",
    "\n",
    "        self.motion_extract=CorrBlock(num_levels=2, radius=3)\n",
    "        self.motion_conv1=BasicConv3d(2*(self.radius*2+1)**2,_set_channels[2],kernel_size=3)\n",
    "        self.motion_conv2=LocaltemporalAG33(_set_channels[2], _set_channels[2])\n",
    "            \n",
    "\n",
    "\n",
    "        self.relu = nn.ReLU()\n",
    "        for m in self.modules():\n",
    "            # print('---')\n",
    "            if isinstance(m, (nn.Conv3d, nn.Conv2d, nn.Conv1d)):\n",
    "                nn.init.xavier_uniform_(m.weight.data)\n",
    "            elif isinstance(m, nn.Linear):\n",
    "                nn.init.xavier_uniform_(m.weight.data)\n",
    "                nn.init.constant_(m.bias.data, 0.0)\n",
    "            elif isinstance(m, (nn.BatchNorm3d, nn.BatchNorm2d, nn.BatchNorm1d)):\n",
    "                nn.init.normal_(m.weight.data, 1.0, 0.02)\n",
    "                nn.init.constant_(m.bias.data, 0.0)\n",
    "\n",
    "    def forward(self, x):\n",
    "        # print(x.shape)\n",
    "        x=x.permute(0,2,1,3,4).contiguous()\n",
    "        n, c, t, h, w = x.size()\n",
    "        if t == 1:\n",
    "            x = x.repeat(1, 1, 3, 1, 1)\n",
    "        elif t == 2:\n",
    "            x = x.repeat(1, 1, 2, 1, 1)\n",
    "        elif t == 3:\n",
    "            x = torch.cat((x,x[:,:,0:1,:,:]),dim=2)\n",
    "        # print(x.shape)\n",
    "\n",
    "        # ----------------2d--------------------\n",
    "        x2d = self.conv2dlayer1a(x)\n",
    "        # x2d = self.conv2dlayer1b(x2d)\n",
    "        x2d = self.pool2d1(x2d)\n",
    "        #print('pool2d1-',x2d.shape)\n",
    "        x2d = self.conv2dlayer2a(x2d)\n",
    "        # x2d = self.conv2dlayer2b(x2d)\n",
    "        x2d = self.pool2d2(x2d)\n",
    "        #print('pool2d2-',x2d.shape)\n",
    "\n",
    "        x2d = self.conv2dlayer25a_3d(x2d)\n",
    "        x2d = self.conv2dlayer25b_3d(x2d) # b t 256 64 22\n",
    "\n",
    "\n",
    "        b,c,t,h,w=x2d.shape\n",
    "        x2d_motion=x2d[:,:,:,h//2:,:].clone()\n",
    "        \n",
    "\n",
    "\n",
    "\n",
    "        x2db3d = self.fpb3d(x2d)\n",
    "        #print('4:',x2db3d.shape)\n",
    "        n, c2d, _, _ = x2db3d.size()\n",
    "        x_feat=self.avgpool(x2db3d)\n",
    "        x_feat=x_feat.view(n,c2d)\n",
    "        angle_probe=self.cls(x_feat) # n 11\n",
    "        _,angle= torch.max(angle_probe, 1)\n",
    "        \n",
    "        \n",
    "        b,c,t,h,w=x2d_motion.shape\n",
    "        x2d_motion=x2d_motion.view(b*c,t,h,w)\n",
    "        x2d_motion=F.avg_pool2d(x2d_motion, kernel_size=(2,2))\n",
    "        x2d_motion=x2d_motion.view(b,c,t,h//2,w//2)\n",
    "        x2d_motion=self.motion_extract(x2d_motion) # b (2*r+1)**2*2 t 16 11\n",
    "        x2d_motion=self.motion_conv1(x2d_motion) \n",
    "        x2d_motion=self.motion_conv2(x2d_motion) # b 256 t//3 16 11\n",
    "        b,c,t,h,w=x2d_motion.shape\n",
    "        x2d_motion=x2d_motion.permute(0,1,3,4,2).contiguous()\n",
    "        x2d_motion=x2d_motion.view(b,c,h,w*t)\n",
    "        n,c2d,_,_=x2d_motion.shape\n",
    "        feature_motion=[]\n",
    "        for num_bin in self.bin_numgl_motion:\n",
    "            z = x2d_motion.view(n, c2d, num_bin, -1).contiguous()\n",
    "            # z1 = z.mean(3) + z.max(3)[0]\n",
    "            # print('z1-',z1.shape)\n",
    "            #z2 = self.Gem(z).squeeze(-1)\n",
    "            z2=torch.cat((self.Gem(z).squeeze(-1),self.view_embedding_64_motion[angle].expand(-1,-1,num_bin)),1)\n",
    "            # print('z2-',z2.shape)\n",
    "            feature_motion.append(z2)\n",
    "        feature_motion = torch.cat(feature_motion, 2).permute(2, 0, 1).contiguous() #  8 n 256\n",
    "        #print('feature',feature.shape)\n",
    "        feature_motion = feature_motion.matmul(self.fc_bin_motion) # 8 n 256\n",
    "        feature_motion = feature_motion.permute(1, 2, 0).contiguous()\n",
    "        #print('3:',x2d.shape)\n",
    "        #x2da3d = self.conv2dlayer3a_3d(x2d)\n",
    "        # print('conv2dlayer3a_3d-',x2da3d.shape)\n",
    "        #x2db3d = self.conv2dlayer3b_3d(x2da3d)\n",
    "        # print('conv2dlayer3b_3d-',x2db3d.shape)\n",
    "        \n",
    "        #print('x2db-',x2db3d.shape)\n",
    "\n",
    "        # xgem = self.Gem(x2db3d)\n",
    "        # print('xgem-',xgem.shape)\n",
    "\n",
    "        _, c2d, _, _ = x2db3d.size()\n",
    "\n",
    "        feature = list()\n",
    "        for num_bin in self.bin_numgl:\n",
    "            z = x2db3d.view(n, c2d, num_bin, -1).contiguous()\n",
    "            # z1 = z.mean(3) + z.max(3)[0]\n",
    "            # print('z1-',z1.shape)\n",
    "            #z2 = self.Gem(z).squeeze(-1)\n",
    "            z2=torch.cat((self.Gem(z).squeeze(-1),self.view_embedding_64[angle].expand(-1,-1,num_bin)),1)\n",
    "            # print('z2-',z2.shape)\n",
    "            feature.append(z2)\n",
    "        feature = torch.cat(feature, 2).permute(2, 0, 1).contiguous() #  64 n 256\n",
    "        #print('feature',feature.shape)\n",
    "        feature = feature.matmul(self.fc_bin) # 64 n 256\n",
    "        feature = feature.permute(1, 2, 0).contiguous()\n",
    "        feature=torch.cat([feature_motion,feature],2)\n",
    "        #feature = feature.permute(1, 2, 0).contiguous() #n 256 64\n",
    "        #feature = feature.permute(1, 0, 2).contiguous()#n 64 256 \n",
    "        '''\n",
    "        feature_rt=[]\n",
    "        for j in range(feature.shape[0]):\n",
    "            #print(feature[j].shape)\n",
    "            feature_now=((feature[j].unsqueeze(1)).bmm(self.trans_view[angle[j]])).squeeze(1) # 64*256\n",
    "            feature_rt.append(feature_now)\n",
    "        # print('feature',feature.shape)\n",
    "        feature = torch.cat([x.unsqueeze(0) for x in feature_rt]) # n 64 256\n",
    "        feature = feature.permute(0, 2, 1).contiguous()\n",
    "        #print(feature.shape)\n",
    "        '''\n",
    "        return feature,angle_probe\n",
    "\n",
    "\n",
    "\n",
    "net=C3D_VGG_angle_emb_motion()\n",
    "x=torch.randn(2,30,1,64,44)\n",
    "out1,out2=net(x)"
   ]
  },
  {
   "cell_type": "code",
   "execution_count": 6,
   "id": "severe-boulder",
   "metadata": {},
   "outputs": [
    {
     "data": {
      "text/plain": [
       "torch.Size([2, 256, 72])"
      ]
     },
     "execution_count": 6,
     "metadata": {},
     "output_type": "execute_result"
    }
   ],
   "source": [
    "out1.shape"
   ]
  },
  {
   "cell_type": "code",
   "execution_count": null,
   "id": "appropriate-clear",
   "metadata": {},
   "outputs": [],
   "source": []
  }
 ],
 "metadata": {
  "kernelspec": {
   "display_name": "Python 3",
   "language": "python",
   "name": "python3"
  },
  "language_info": {
   "codemirror_mode": {
    "name": "ipython",
    "version": 3
   },
   "file_extension": ".py",
   "mimetype": "text/x-python",
   "name": "python",
   "nbconvert_exporter": "python",
   "pygments_lexer": "ipython3",
   "version": "3.7.10"
  }
 },
 "nbformat": 4,
 "nbformat_minor": 5
}
