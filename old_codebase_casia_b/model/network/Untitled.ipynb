{
 "cells": [
  {
   "cell_type": "code",
   "execution_count": 1,
   "metadata": {},
   "outputs": [],
   "source": [
    "import torch\n",
    "import torch.nn as nn\n",
    "import numpy as np\n",
    "\n",
    "from basic_blocks import SetBlock,BasicConv2d,Non_local,Feed_Forward\n",
    "\n"
   ]
  },
  {
   "cell_type": "code",
   "execution_count": 3,
   "metadata": {},
   "outputs": [],
   "source": [
    "_set_in_channels = 1\n",
    "_set_channels = [32, 64, 128]\n",
    "set_layer1 = SetBlock(BasicConv2d(_set_in_channels, _set_channels[0], 5, padding=2))\n",
    "set_layer2 = SetBlock(BasicConv2d(_set_channels[0], _set_channels[0], 3, padding=1), True)\n",
    "\n",
    "non_layer1 = SetBlock(Non_local( _set_channels[0],8))\n",
    "non_layer2 = SetBlock(Non_local( _set_channels[0],4))\n"
   ]
  },
  {
   "cell_type": "code",
   "execution_count": 15,
   "metadata": {},
   "outputs": [],
   "source": [
    "x=torch.randn(2,30,1,64,44)\n",
    "pos_embedding_32=nn.Parameter(torch.randn(1,1,32,32,22))\n",
    "bin_num=4"
   ]
  },
  {
   "cell_type": "code",
   "execution_count": 16,
   "metadata": {},
   "outputs": [
    {
     "name": "stdout",
     "output_type": "stream",
     "text": [
      "torch.Size([2, 30, 32, 64, 44])\n",
      "torch.Size([2, 120, 32, 8, 22])\n",
      "torch.Size([2, 120, 32, 8, 22])\n",
      "torch.Size([2, 120, 32, 8, 22])\n"
     ]
    }
   ],
   "source": [
    "x=set_layer1(x)\n",
    "print(x.shape)\n",
    "x=set_layer2(x)\n",
    "x_ori=x.clone()\n",
    "x=x+pos_embedding_32\n",
    "n,t,c,h,w=x.shape\n",
    "\n",
    "\n",
    "win_size=h//bin_num\n",
    "x=x.view(n,t,c,bin_num,win_size,w).permute(0,1,3,2,4,5)\\\n",
    "    .contiguous().view(n,t*bin_num,c,win_size,w) # n tp c h/p w   \n",
    "\n",
    "\n",
    "\n",
    "print(x.shape)\n",
    "x=non_layer1(x)\n",
    "print(x.shape)\n",
    "x=non_layer2(x)\n",
    "print(x.shape)\n",
    "\n",
    "x=x.view(n,t,bin_num,c,win_size,w).permute(0,1,3,2,4,5).contiguous().view(n,t,c,h,w)\n",
    "\n"
   ]
  },
  {
   "cell_type": "code",
   "execution_count": 17,
   "metadata": {},
   "outputs": [
    {
     "data": {
      "text/plain": [
       "torch.Size([2, 30, 32, 32, 22])"
      ]
     },
     "execution_count": 17,
     "metadata": {},
     "output_type": "execute_result"
    }
   ],
   "source": [
    "x.shape"
   ]
  },
  {
   "cell_type": "code",
   "execution_count": 2,
   "metadata": {},
   "outputs": [],
   "source": [
    "_set_channels=[32,64,128]"
   ]
  },
  {
   "cell_type": "code",
   "execution_count": 3,
   "metadata": {},
   "outputs": [],
   "source": [
    "net=SetBlock(Feed_Forward(_set_channels[1],_set_channels[2],_set_channels[2]))"
   ]
  },
  {
   "cell_type": "code",
   "execution_count": 4,
   "metadata": {},
   "outputs": [],
   "source": [
    "x=torch.randn(2,30,64,8,22)"
   ]
  },
  {
   "cell_type": "code",
   "execution_count": 5,
   "metadata": {},
   "outputs": [],
   "source": [
    "y=net(x)"
   ]
  },
  {
   "cell_type": "code",
   "execution_count": 6,
   "metadata": {},
   "outputs": [
    {
     "data": {
      "text/plain": [
       "torch.Size([2, 30, 128, 8, 22])"
      ]
     },
     "execution_count": 6,
     "metadata": {},
     "output_type": "execute_result"
    }
   ],
   "source": [
    "y.shape"
   ]
  },
  {
   "cell_type": "code",
   "execution_count": 2,
   "metadata": {},
   "outputs": [],
   "source": [
    "import torch\n",
    "import torch.nn as nn\n",
    "x=nn.Parameter(torch.randn(3,2,1))"
   ]
  },
  {
   "cell_type": "code",
   "execution_count": 3,
   "metadata": {},
   "outputs": [
    {
     "data": {
      "text/plain": [
       "tensor([[ 0.2198],\n",
       "        [-0.2780]], grad_fn=<SelectBackward>)"
      ]
     },
     "execution_count": 3,
     "metadata": {},
     "output_type": "execute_result"
    }
   ],
   "source": [
    "x[0]"
   ]
  },
  {
   "cell_type": "code",
   "execution_count": 4,
   "metadata": {},
   "outputs": [
    {
     "data": {
      "text/plain": [
       "tensor([[-0.8669],\n",
       "        [ 0.1025]], grad_fn=<SelectBackward>)"
      ]
     },
     "execution_count": 4,
     "metadata": {},
     "output_type": "execute_result"
    }
   ],
   "source": [
    "x[1]"
   ]
  },
  {
   "cell_type": "code",
   "execution_count": 7,
   "metadata": {},
   "outputs": [
    {
     "data": {
      "text/plain": [
       "tensor([[ 0.2198,  0.2198,  0.2198,  0.2198,  0.2198],\n",
       "        [-0.2780, -0.2780, -0.2780, -0.2780, -0.2780]],\n",
       "       grad_fn=<ExpandBackward>)"
      ]
     },
     "execution_count": 7,
     "metadata": {},
     "output_type": "execute_result"
    }
   ],
   "source": [
    "x[0].expand(-1,5)"
   ]
  },
  {
   "cell_type": "code",
   "execution_count": 8,
   "metadata": {},
   "outputs": [],
   "source": [
    "angle_probe=torch.tensor([[0.5,0.6],[0.3,0.2]])"
   ]
  },
  {
   "cell_type": "code",
   "execution_count": 9,
   "metadata": {},
   "outputs": [
    {
     "data": {
      "text/plain": [
       "torch.Size([2, 2])"
      ]
     },
     "execution_count": 9,
     "metadata": {},
     "output_type": "execute_result"
    }
   ],
   "source": [
    "angle_probe.shape"
   ]
  },
  {
   "cell_type": "code",
   "execution_count": 10,
   "metadata": {},
   "outputs": [],
   "source": [
    "_,angle= torch.max(angle_probe, 1)"
   ]
  },
  {
   "cell_type": "code",
   "execution_count": 11,
   "metadata": {},
   "outputs": [
    {
     "data": {
      "text/plain": [
       "tensor([1, 0])"
      ]
     },
     "execution_count": 11,
     "metadata": {},
     "output_type": "execute_result"
    }
   ],
   "source": [
    "angle"
   ]
  },
  {
   "cell_type": "code",
   "execution_count": 15,
   "metadata": {},
   "outputs": [
    {
     "data": {
      "text/plain": [
       "tensor([[[-0.8669, -0.8669, -0.8669, -0.8669, -0.8669, -0.8669],\n",
       "         [ 0.1025,  0.1025,  0.1025,  0.1025,  0.1025,  0.1025]],\n",
       "\n",
       "        [[ 0.2198,  0.2198,  0.2198,  0.2198,  0.2198,  0.2198],\n",
       "         [-0.2780, -0.2780, -0.2780, -0.2780, -0.2780, -0.2780]]],\n",
       "       grad_fn=<ExpandBackward>)"
      ]
     },
     "execution_count": 15,
     "metadata": {},
     "output_type": "execute_result"
    }
   ],
   "source": [
    "x[angle].expand(-1,-1,6)"
   ]
  },
  {
   "cell_type": "code",
   "execution_count": null,
   "metadata": {},
   "outputs": [],
   "source": []
  }
 ],
 "metadata": {
  "kernelspec": {
   "display_name": "Python 3",
   "language": "python",
   "name": "python3"
  },
  "language_info": {
   "codemirror_mode": {
    "name": "ipython",
    "version": 3
   },
   "file_extension": ".py",
   "mimetype": "text/x-python",
   "name": "python",
   "nbconvert_exporter": "python",
   "pygments_lexer": "ipython3",
   "version": "3.7.10"
  }
 },
 "nbformat": 4,
 "nbformat_minor": 2
}
