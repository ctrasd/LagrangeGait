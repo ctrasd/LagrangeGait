{
 "cells": [
  {
   "cell_type": "code",
   "execution_count": 2,
   "metadata": {},
   "outputs": [
    {
     "ename": "ImportError",
     "evalue": "cannot import name 'Fead_Forward' from 'basic_blocks' (/home/ctr/gait_trans/model/network/basic_blocks.py)",
     "output_type": "error",
     "traceback": [
      "\u001b[0;31m---------------------------------------------------------------------------\u001b[0m",
      "\u001b[0;31mImportError\u001b[0m                               Traceback (most recent call last)",
      "\u001b[0;32m<ipython-input-2-3c4f22973801>\u001b[0m in \u001b[0;36m<module>\u001b[0;34m\u001b[0m\n\u001b[1;32m      3\u001b[0m \u001b[0;32mimport\u001b[0m \u001b[0mnumpy\u001b[0m \u001b[0;32mas\u001b[0m \u001b[0mnp\u001b[0m\u001b[0;34m\u001b[0m\u001b[0;34m\u001b[0m\u001b[0m\n\u001b[1;32m      4\u001b[0m \u001b[0;34m\u001b[0m\u001b[0m\n\u001b[0;32m----> 5\u001b[0;31m \u001b[0;32mfrom\u001b[0m \u001b[0mbasic_blocks\u001b[0m \u001b[0;32mimport\u001b[0m \u001b[0mSetBlock\u001b[0m\u001b[0;34m,\u001b[0m\u001b[0mBasicConv2d\u001b[0m\u001b[0;34m,\u001b[0m\u001b[0mNon_local\u001b[0m\u001b[0;34m,\u001b[0m\u001b[0mFead_Forward\u001b[0m\u001b[0;34m\u001b[0m\u001b[0;34m\u001b[0m\u001b[0m\n\u001b[0m\u001b[1;32m      6\u001b[0m \u001b[0;34m\u001b[0m\u001b[0m\n",
      "\u001b[0;31mImportError\u001b[0m: cannot import name 'Fead_Forward' from 'basic_blocks' (/home/ctr/gait_trans/model/network/basic_blocks.py)"
     ]
    }
   ],
   "source": [
    "import torch\n",
    "import torch.nn as nn\n",
    "import numpy as np\n",
    "\n",
    "from basic_blocks import SetBlock,BasicConv2d,Non_local,Feed_Forward\n",
    "\n"
   ]
  },
  {
   "cell_type": "code",
   "execution_count": 3,
   "metadata": {},
   "outputs": [],
   "source": [
    "_set_in_channels = 1\n",
    "_set_channels = [32, 64, 128]\n",
    "set_layer1 = SetBlock(BasicConv2d(_set_in_channels, _set_channels[0], 5, padding=2))\n",
    "set_layer2 = SetBlock(BasicConv2d(_set_channels[0], _set_channels[0], 3, padding=1), True)\n",
    "\n",
    "non_layer1 = SetBlock(Non_local( _set_channels[0],8))\n",
    "non_layer2 = SetBlock(Non_local( _set_channels[0],4))\n"
   ]
  },
  {
   "cell_type": "code",
   "execution_count": 15,
   "metadata": {},
   "outputs": [],
   "source": [
    "x=torch.randn(2,30,1,64,44)\n",
    "pos_embedding_32=nn.Parameter(torch.randn(1,1,32,32,22))\n",
    "bin_num=4"
   ]
  },
  {
   "cell_type": "code",
   "execution_count": 16,
   "metadata": {},
   "outputs": [
    {
     "name": "stdout",
     "output_type": "stream",
     "text": [
      "torch.Size([2, 30, 32, 64, 44])\n",
      "torch.Size([2, 120, 32, 8, 22])\n",
      "torch.Size([2, 120, 32, 8, 22])\n",
      "torch.Size([2, 120, 32, 8, 22])\n"
     ]
    }
   ],
   "source": [
    "x=set_layer1(x)\n",
    "print(x.shape)\n",
    "x=set_layer2(x)\n",
    "x_ori=x.clone()\n",
    "x=x+pos_embedding_32\n",
    "n,t,c,h,w=x.shape\n",
    "\n",
    "\n",
    "win_size=h//bin_num\n",
    "x=x.view(n,t,c,bin_num,win_size,w).permute(0,1,3,2,4,5)\\\n",
    "    .contiguous().view(n,t*bin_num,c,win_size,w) # n tp c h/p w   \n",
    "\n",
    "\n",
    "\n",
    "print(x.shape)\n",
    "x=non_layer1(x)\n",
    "print(x.shape)\n",
    "x=non_layer2(x)\n",
    "print(x.shape)\n",
    "\n",
    "x=x.view(n,t,bin_num,c,win_size,w).permute(0,1,3,2,4,5).contiguous().view(n,t,c,h,w)\n",
    "\n"
   ]
  },
  {
   "cell_type": "code",
   "execution_count": 17,
   "metadata": {},
   "outputs": [
    {
     "data": {
      "text/plain": [
       "torch.Size([2, 30, 32, 32, 22])"
      ]
     },
     "execution_count": 17,
     "metadata": {},
     "output_type": "execute_result"
    }
   ],
   "source": [
    "x.shape"
   ]
  },
  {
   "cell_type": "code",
   "execution_count": 19,
   "metadata": {},
   "outputs": [],
   "source": [
    "_set_channels=[32,64,128]"
   ]
  },
  {
   "cell_type": "code",
   "execution_count": null,
   "metadata": {},
   "outputs": [],
   "source": [
    "net=SetBlock(Feed_Forward(_set_channels[1],_set_channels[2],_set_channels[2])"
   ]
  }
 ],
 "metadata": {
  "kernelspec": {
   "display_name": "Python 3",
   "language": "python",
   "name": "python3"
  },
  "language_info": {
   "codemirror_mode": {
    "name": "ipython",
    "version": 3
   },
   "file_extension": ".py",
   "mimetype": "text/x-python",
   "name": "python",
   "nbconvert_exporter": "python",
   "pygments_lexer": "ipython3",
   "version": "3.7.4"
  }
 },
 "nbformat": 4,
 "nbformat_minor": 2
}
